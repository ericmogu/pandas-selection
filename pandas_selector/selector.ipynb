{
 "cells": [
  {
   "cell_type": "markdown",
   "metadata": {},
   "source": [
    "importacion de la liberia"
   ]
  },
  {
   "cell_type": "code",
   "execution_count": 1,
   "metadata": {},
   "outputs": [],
   "source": [
    "import pandas as pd\n",
    "import numpy as np\n",
    "import chardet "
   ]
  },
  {
   "cell_type": "markdown",
   "metadata": {},
   "source": [
    "Analisis y carga del archivo, revision de la codificacion"
   ]
  },
  {
   "cell_type": "code",
   "execution_count": null,
   "metadata": {},
   "outputs": [],
   "source": [
    "file = r\"C:/Users/ericm/Documents/Python/pandas-selection/pandas_selector/file.csv\"\n",
    "def detect_encoding(file_path): \n",
    "    with open(file_path, 'rb') as file: \n",
    "        detector = chardet.universaldetector.UniversalDetector() \n",
    "        for line in file: \n",
    "            detector.feed(line) \n",
    "            if detector.done: \n",
    "                break\n",
    "        detector.close() \n",
    "    return detector.result['encoding'] \n",
    "\n",
    "encoding = detect_encoding(file) \n",
    "print(f'The encoding of the file is: {encoding}') "
   ]
  },
  {
   "cell_type": "markdown",
   "metadata": {},
   "source": [
    "Carga del archivo y eliminacion de las series innecesarias"
   ]
  },
  {
   "cell_type": "code",
   "execution_count": null,
   "metadata": {},
   "outputs": [],
   "source": [
    "df = pd.read_csv(file, na_filter=False, sep=';', encoding= 'ISO-8859-1')\n",
    "df = df.drop('Nombre', axis=1) \n",
    "df = df.drop('¿ Qué carrera profesional, técnica o tecnológica le gustaría estudiar una vez finalizada su etapa escolar?', axis=1)\n",
    "df = df.drop('Correo electrónico', axis=1) \n",
    "df = df.drop('Correo electrónico2', axis=1) \n",
    "df = df.drop('Colegio al cual pertenecen', axis=1) \n",
    "\n",
    "\n",
    "df.head(10)\n",
    "\n"
   ]
  },
  {
   "cell_type": "code",
   "execution_count": null,
   "metadata": {},
   "outputs": [],
   "source": [
    "df[['col1', 'col2', 'col3', 'col4', 'col5', 'col6', 'col7', 'col8']] = df['Ordene los seminarios desde el que mas llamo su atención al que menos atrajo su interés.'].str.split(';', n=7, expand=True)\n",
    "df = df.drop('col8', axis=1) \n",
    "df.head()\n"
   ]
  }
 ],
 "metadata": {
  "kernelspec": {
   "display_name": "Python 3",
   "language": "python",
   "name": "python3"
  },
  "language_info": {
   "codemirror_mode": {
    "name": "ipython",
    "version": 3
   },
   "file_extension": ".py",
   "mimetype": "text/x-python",
   "name": "python",
   "nbconvert_exporter": "python",
   "pygments_lexer": "ipython3",
   "version": "3.12.4"
  }
 },
 "nbformat": 4,
 "nbformat_minor": 2
}
