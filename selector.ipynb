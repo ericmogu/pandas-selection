{
 "cells": [
  {
   "cell_type": "markdown",
   "metadata": {},
   "source": [
    "Importacion de la liberia"
   ]
  },
  {
   "cell_type": "code",
   "execution_count": 204,
   "metadata": {},
   "outputs": [],
   "source": [
    "import pandas as pd\n",
    "import numpy as np\n",
    "import chardet \n",
    "import xlsxwriter\n",
    "import re\n",
    "import openpyxl\n",
    "from openpyxl.utils import get_column_letter"
   ]
  },
  {
   "cell_type": "markdown",
   "metadata": {},
   "source": [
    "Analisis y carga del archivo, revision de la codificacion"
   ]
  },
  {
   "cell_type": "code",
   "execution_count": 205,
   "metadata": {},
   "outputs": [
    {
     "name": "stdout",
     "output_type": "stream",
     "text": [
      "The encoding of the file is: ISO-8859-1\n"
     ]
    }
   ],
   "source": [
    "file = r\"C:/Users/ericm/Documents/Python/pandas-selection/pandas_selector/file.csv\"\n",
    "def detect_encoding(file_path): \n",
    "    with open(file_path, 'rb') as file: \n",
    "        detector = chardet.universaldetector.UniversalDetector() \n",
    "        for line in file: \n",
    "            detector.feed(line) \n",
    "            if detector.done: \n",
    "                break\n",
    "        detector.close() \n",
    "    return detector.result['encoding'] \n",
    "\n",
    "encoding = detect_encoding(file) \n",
    "print(f'The encoding of the file is: {encoding}') "
   ]
  },
  {
   "cell_type": "markdown",
   "metadata": {},
   "source": [
    "Carga del archivo y eliminacion de las series innecesarias"
   ]
  },
  {
   "cell_type": "code",
   "execution_count": 206,
   "metadata": {},
   "outputs": [
    {
     "data": {
      "text/html": [
       "<div>\n",
       "<style scoped>\n",
       "    .dataframe tbody tr th:only-of-type {\n",
       "        vertical-align: middle;\n",
       "    }\n",
       "\n",
       "    .dataframe tbody tr th {\n",
       "        vertical-align: top;\n",
       "    }\n",
       "\n",
       "    .dataframe thead th {\n",
       "        text-align: right;\n",
       "    }\n",
       "</style>\n",
       "<table border=\"1\" class=\"dataframe\">\n",
       "  <thead>\n",
       "    <tr style=\"text-align: right;\">\n",
       "      <th></th>\n",
       "      <th>Nombre Completo</th>\n",
       "      <th>Ordene los seminarios desde el que mas llamo su atención al que menos atrajo su interés.</th>\n",
       "    </tr>\n",
       "  </thead>\n",
       "  <tbody>\n",
       "    <tr>\n",
       "      <th>0</th>\n",
       "      <td>Linconl Javier Sánchez fajardo</td>\n",
       "      <td>INVERTEBRADOS: UN MUNDO POR DESCUBRIR;EL RASTR...</td>\n",
       "    </tr>\n",
       "    <tr>\n",
       "      <th>1</th>\n",
       "      <td>D?v?ra Esneider Mendivelso Caceres</td>\n",
       "      <td>INVERTEBRADOS: UN MUNDO POR DESCUBRIR;EL RASTR...</td>\n",
       "    </tr>\n",
       "    <tr>\n",
       "      <th>2</th>\n",
       "      <td>Nixon Sánchez</td>\n",
       "      <td>EL RASTRO DEL DELITO;AMBIENTANDO LA CIENCIA;CO...</td>\n",
       "    </tr>\n",
       "    <tr>\n",
       "      <th>3</th>\n",
       "      <td>Juan Sebastian Velasco Carmona</td>\n",
       "      <td>EL RASTRO DEL DELITO;COMUNICACIÓN DIGITAL;COLO...</td>\n",
       "    </tr>\n",
       "    <tr>\n",
       "      <th>4</th>\n",
       "      <td>Jireth Sofia Galvis Rugeles</td>\n",
       "      <td>EL RASTRO DEL DELITO;COMUNICACIÓN DIGITAL;LA B...</td>\n",
       "    </tr>\n",
       "    <tr>\n",
       "      <th>5</th>\n",
       "      <td>Abigail Maria Caldera Gonzalez</td>\n",
       "      <td>EL RASTRO DEL DELITO;AMBIENTANDO LA CIENCIA;CO...</td>\n",
       "    </tr>\n",
       "    <tr>\n",
       "      <th>6</th>\n",
       "      <td>Daniel Sebastián Muñoz Vargas</td>\n",
       "      <td>INVERTEBRADOS: UN MUNDO POR DESCUBRIR;PAP PARA...</td>\n",
       "    </tr>\n",
       "    <tr>\n",
       "      <th>7</th>\n",
       "      <td>María Catalina Ducuara Vela</td>\n",
       "      <td>EL RASTRO DEL DELITO;COMUNICACIÓN DIGITAL;AMBI...</td>\n",
       "    </tr>\n",
       "    <tr>\n",
       "      <th>8</th>\n",
       "      <td>Juan Andrés Rojas Contreras</td>\n",
       "      <td>EL RASTRO DEL DELITO;LA BRIGADA DE EMERGENCIA;...</td>\n",
       "    </tr>\n",
       "    <tr>\n",
       "      <th>9</th>\n",
       "      <td>Daniel Alejandro Timoteo torres</td>\n",
       "      <td>EL RASTRO DEL DELITO;LA BRIGADA DE EMERGENCIA;...</td>\n",
       "    </tr>\n",
       "  </tbody>\n",
       "</table>\n",
       "</div>"
      ],
      "text/plain": [
       "                      Nombre Completo  \\\n",
       "0     Linconl Javier Sánchez fajardo    \n",
       "1  D?v?ra Esneider Mendivelso Caceres   \n",
       "2                      Nixon Sánchez    \n",
       "3     Juan Sebastian Velasco Carmona    \n",
       "4         Jireth Sofia Galvis Rugeles   \n",
       "5      Abigail Maria Caldera Gonzalez   \n",
       "6      Daniel Sebastián Muñoz Vargas    \n",
       "7         María Catalina Ducuara Vela   \n",
       "8        Juan Andrés Rojas Contreras    \n",
       "9    Daniel Alejandro Timoteo torres    \n",
       "\n",
       "  Ordene los seminarios desde el que mas llamo su atención al que menos atrajo su interés.  \n",
       "0  INVERTEBRADOS: UN MUNDO POR DESCUBRIR;EL RASTR...                                        \n",
       "1  INVERTEBRADOS: UN MUNDO POR DESCUBRIR;EL RASTR...                                        \n",
       "2  EL RASTRO DEL DELITO;AMBIENTANDO LA CIENCIA;CO...                                        \n",
       "3  EL RASTRO DEL DELITO;COMUNICACIÓN DIGITAL;COLO...                                        \n",
       "4  EL RASTRO DEL DELITO;COMUNICACIÓN DIGITAL;LA B...                                        \n",
       "5  EL RASTRO DEL DELITO;AMBIENTANDO LA CIENCIA;CO...                                        \n",
       "6  INVERTEBRADOS: UN MUNDO POR DESCUBRIR;PAP PARA...                                        \n",
       "7  EL RASTRO DEL DELITO;COMUNICACIÓN DIGITAL;AMBI...                                        \n",
       "8  EL RASTRO DEL DELITO;LA BRIGADA DE EMERGENCIA;...                                        \n",
       "9  EL RASTRO DEL DELITO;LA BRIGADA DE EMERGENCIA;...                                        "
      ]
     },
     "execution_count": 206,
     "metadata": {},
     "output_type": "execute_result"
    }
   ],
   "source": [
    "df = pd.read_csv(file, na_filter=False, sep=';', encoding= 'ISO-8859-1')\n",
    "df = df.drop('Nombre', axis=1) \n",
    "df = df.drop('¿ Qué carrera profesional, técnica o tecnológica le gustaría estudiar una vez finalizada su etapa escolar?', axis=1)\n",
    "df = df.drop('Correo electrónico', axis=1) \n",
    "df = df.drop('Correo electrónico2', axis=1) \n",
    "df = df.drop('ID', axis=1) \n",
    "df = df.drop('Hora de inicio', axis=1) \n",
    "df = df.drop('Hora de finalización', axis=1) \n",
    "df = df.drop('Curso', axis=1) \n",
    "df = df.drop('Colegio al cual pertenecen', axis=1) \n",
    "\n",
    "\n",
    "df.head(10)\n",
    "\n"
   ]
  },
  {
   "cell_type": "code",
   "execution_count": 207,
   "metadata": {},
   "outputs": [
    {
     "data": {
      "text/html": [
       "<div>\n",
       "<style scoped>\n",
       "    .dataframe tbody tr th:only-of-type {\n",
       "        vertical-align: middle;\n",
       "    }\n",
       "\n",
       "    .dataframe tbody tr th {\n",
       "        vertical-align: top;\n",
       "    }\n",
       "\n",
       "    .dataframe thead th {\n",
       "        text-align: right;\n",
       "    }\n",
       "</style>\n",
       "<table border=\"1\" class=\"dataframe\">\n",
       "  <thead>\n",
       "    <tr style=\"text-align: right;\">\n",
       "      <th></th>\n",
       "      <th>Nombre Completo</th>\n",
       "      <th>Seminario 1</th>\n",
       "      <th>Seminario 2</th>\n",
       "      <th>Seminario 3</th>\n",
       "      <th>Seminario 4</th>\n",
       "      <th>Seminario 5</th>\n",
       "      <th>Seminario 6</th>\n",
       "      <th>Seminario 7</th>\n",
       "    </tr>\n",
       "  </thead>\n",
       "  <tbody>\n",
       "    <tr>\n",
       "      <th>0</th>\n",
       "      <td>Linconl Javier Sánchez fajardo</td>\n",
       "      <td>INVERTEBRADOS: UN MUNDO POR DESCUBRIR</td>\n",
       "      <td>EL RASTRO DEL DELITO</td>\n",
       "      <td>COLORES DE RESILIENCIA</td>\n",
       "      <td>COMUNICACIÓN DIGITAL</td>\n",
       "      <td>AMBIENTANDO LA CIENCIA</td>\n",
       "      <td>LA BRIGADA DE EMERGENCIA</td>\n",
       "      <td>PAP PARA LA VIDA</td>\n",
       "    </tr>\n",
       "    <tr>\n",
       "      <th>1</th>\n",
       "      <td>D?v?ra Esneider Mendivelso Caceres</td>\n",
       "      <td>INVERTEBRADOS: UN MUNDO POR DESCUBRIR</td>\n",
       "      <td>EL RASTRO DEL DELITO</td>\n",
       "      <td>AMBIENTANDO LA CIENCIA</td>\n",
       "      <td>COLORES DE RESILIENCIA</td>\n",
       "      <td>LA BRIGADA DE EMERGENCIA</td>\n",
       "      <td>COMUNICACIÓN DIGITAL</td>\n",
       "      <td>PAP PARA LA VIDA</td>\n",
       "    </tr>\n",
       "    <tr>\n",
       "      <th>2</th>\n",
       "      <td>Nixon Sánchez</td>\n",
       "      <td>EL RASTRO DEL DELITO</td>\n",
       "      <td>AMBIENTANDO LA CIENCIA</td>\n",
       "      <td>COLORES DE RESILIENCIA</td>\n",
       "      <td>PAP PARA LA VIDA</td>\n",
       "      <td>COMUNICACIÓN DIGITAL</td>\n",
       "      <td>INVERTEBRADOS: UN MUNDO POR DESCUBRIR</td>\n",
       "      <td>LA BRIGADA DE EMERGENCIA</td>\n",
       "    </tr>\n",
       "    <tr>\n",
       "      <th>3</th>\n",
       "      <td>Juan Sebastian Velasco Carmona</td>\n",
       "      <td>EL RASTRO DEL DELITO</td>\n",
       "      <td>COMUNICACIÓN DIGITAL</td>\n",
       "      <td>COLORES DE RESILIENCIA</td>\n",
       "      <td>AMBIENTANDO LA CIENCIA</td>\n",
       "      <td>PAP PARA LA VIDA</td>\n",
       "      <td>LA BRIGADA DE EMERGENCIA</td>\n",
       "      <td>INVERTEBRADOS: UN MUNDO POR DESCUBRIR</td>\n",
       "    </tr>\n",
       "    <tr>\n",
       "      <th>4</th>\n",
       "      <td>Jireth Sofia Galvis Rugeles</td>\n",
       "      <td>EL RASTRO DEL DELITO</td>\n",
       "      <td>COMUNICACIÓN DIGITAL</td>\n",
       "      <td>LA BRIGADA DE EMERGENCIA</td>\n",
       "      <td>PAP PARA LA VIDA</td>\n",
       "      <td>COLORES DE RESILIENCIA</td>\n",
       "      <td>INVERTEBRADOS: UN MUNDO POR DESCUBRIR</td>\n",
       "      <td>AMBIENTANDO LA CIENCIA</td>\n",
       "    </tr>\n",
       "  </tbody>\n",
       "</table>\n",
       "</div>"
      ],
      "text/plain": [
       "                      Nombre Completo                            Seminario 1  \\\n",
       "0     Linconl Javier Sánchez fajardo   INVERTEBRADOS: UN MUNDO POR DESCUBRIR   \n",
       "1  D?v?ra Esneider Mendivelso Caceres  INVERTEBRADOS: UN MUNDO POR DESCUBRIR   \n",
       "2                      Nixon Sánchez                    EL RASTRO DEL DELITO   \n",
       "3     Juan Sebastian Velasco Carmona                    EL RASTRO DEL DELITO   \n",
       "4         Jireth Sofia Galvis Rugeles                   EL RASTRO DEL DELITO   \n",
       "\n",
       "              Seminario 2               Seminario 3             Seminario 4  \\\n",
       "0    EL RASTRO DEL DELITO    COLORES DE RESILIENCIA    COMUNICACIÓN DIGITAL   \n",
       "1    EL RASTRO DEL DELITO    AMBIENTANDO LA CIENCIA  COLORES DE RESILIENCIA   \n",
       "2  AMBIENTANDO LA CIENCIA    COLORES DE RESILIENCIA        PAP PARA LA VIDA   \n",
       "3    COMUNICACIÓN DIGITAL    COLORES DE RESILIENCIA  AMBIENTANDO LA CIENCIA   \n",
       "4    COMUNICACIÓN DIGITAL  LA BRIGADA DE EMERGENCIA        PAP PARA LA VIDA   \n",
       "\n",
       "                Seminario 5                            Seminario 6  \\\n",
       "0    AMBIENTANDO LA CIENCIA               LA BRIGADA DE EMERGENCIA   \n",
       "1  LA BRIGADA DE EMERGENCIA                   COMUNICACIÓN DIGITAL   \n",
       "2      COMUNICACIÓN DIGITAL  INVERTEBRADOS: UN MUNDO POR DESCUBRIR   \n",
       "3          PAP PARA LA VIDA               LA BRIGADA DE EMERGENCIA   \n",
       "4    COLORES DE RESILIENCIA  INVERTEBRADOS: UN MUNDO POR DESCUBRIR   \n",
       "\n",
       "                             Seminario 7  \n",
       "0                       PAP PARA LA VIDA  \n",
       "1                       PAP PARA LA VIDA  \n",
       "2               LA BRIGADA DE EMERGENCIA  \n",
       "3  INVERTEBRADOS: UN MUNDO POR DESCUBRIR  \n",
       "4                 AMBIENTANDO LA CIENCIA  "
      ]
     },
     "execution_count": 207,
     "metadata": {},
     "output_type": "execute_result"
    }
   ],
   "source": [
    "seminarios = len(df['Ordene los seminarios desde el que mas llamo su atención al que menos atrajo su interés.'].iloc[0].split(';'))\n",
    "lista_seminarios = [f\"Seminario {i}\" for i in range(1, seminarios +1)]\n",
    "df[lista_seminarios] = df['Ordene los seminarios desde el que mas llamo su atención al que menos atrajo su interés.'].str.split(';', n=seminarios-1, expand=True)\n",
    "df = df.drop(columns=[lista_seminarios[-1]])\n",
    "df = df.drop('Ordene los seminarios desde el que mas llamo su atención al que menos atrajo su interés.', axis=1) \n",
    "df.head()"
   ]
  },
  {
   "cell_type": "code",
   "execution_count": 208,
   "metadata": {},
   "outputs": [],
   "source": [
    "student_preferences = {}\n",
    "for index, row in df.iterrows():\n",
    "    nombre_completo = row['Nombre Completo']\n",
    "    seminar_preferences = [v for v in row[1:] if v]\n",
    "    student_preferences[nombre_completo] = seminar_preferences"
   ]
  },
  {
   "cell_type": "code",
   "execution_count": 209,
   "metadata": {},
   "outputs": [
    {
     "name": "stdout",
     "output_type": "stream",
     "text": [
      "Total Seminarios: 7\n",
      "\n",
      "Numero de estudiantes: 97\n",
      "\n",
      "Numero de estudiantes por seminario: 14.0\n"
     ]
    }
   ],
   "source": [
    "total_seminarios = seminarios - 1\n",
    "print(f'Total Seminarios: {total_seminarios}')\n",
    "\n",
    "total_estudiantes = len(df.index)\n",
    "print(f'\\nNumero de estudiantes: {total_estudiantes}')\n",
    "\n",
    "estudiantes_seminario =  np.ceil(total_estudiantes/total_seminarios)\n",
    "print(f'\\nNumero de estudiantes por seminario: {estudiantes_seminario}')"
   ]
  },
  {
   "cell_type": "code",
   "execution_count": 210,
   "metadata": {},
   "outputs": [
    {
     "name": "stdout",
     "output_type": "stream",
     "text": [
      "{'INVERTEBRADOS: UN MUNDO POR DESCUBRIR': 14.0, 'EL RASTRO DEL DELITO': 14.0, 'COLORES DE RESILIENCIA': 14.0, 'COMUNICACIÓN DIGITAL': 14.0, 'AMBIENTANDO LA CIENCIA': 14.0, 'LA BRIGADA DE EMERGENCIA': 14.0, 'PAP PARA LA VIDA': 14.0}\n"
     ]
    }
   ],
   "source": [
    "seminar_capacities = {}\n",
    "for student, preferences in student_preferences.items():\n",
    "    for seminar in preferences:\n",
    "        if seminar not in seminar_capacities:\n",
    "            seminar_capacities[seminar] = estudiantes_seminario\n",
    "            \n",
    "print (seminar_capacities)"
   ]
  },
  {
   "cell_type": "code",
   "execution_count": 211,
   "metadata": {},
   "outputs": [
    {
     "name": "stdout",
     "output_type": "stream",
     "text": [
      "{'Linconl Javier Sánchez fajardo ': 'INVERTEBRADOS: UN MUNDO POR DESCUBRIR', 'D?v?ra Esneider Mendivelso Caceres': 'INVERTEBRADOS: UN MUNDO POR DESCUBRIR', 'Nixon Sánchez ': 'EL RASTRO DEL DELITO', 'Juan Sebastian Velasco Carmona ': 'EL RASTRO DEL DELITO', 'Jireth Sofia Galvis Rugeles': 'EL RASTRO DEL DELITO', 'Abigail Maria Caldera Gonzalez': 'EL RASTRO DEL DELITO', 'Daniel Sebastián Muñoz Vargas ': 'INVERTEBRADOS: UN MUNDO POR DESCUBRIR', 'María Catalina Ducuara Vela': 'EL RASTRO DEL DELITO', 'Juan Andrés Rojas Contreras ': 'EL RASTRO DEL DELITO', 'Daniel Alejandro Timoteo torres ': 'EL RASTRO DEL DELITO', 'Edward Santiago Torres Ariza ': 'EL RASTRO DEL DELITO', 'Zara Jireht Grisales Pérez ': 'EL RASTRO DEL DELITO', 'María Fernanda Vega Lugo ': 'EL RASTRO DEL DELITO', 'David santiago tapiero figueroa ': 'INVERTEBRADOS: UN MUNDO POR DESCUBRIR', 'Alisson Reyes Ibarra': 'EL RASTRO DEL DELITO', 'Michel Contreras Rendón': 'EL RASTRO DEL DELITO', 'Ana María Rodríguez Tafur ': 'INVERTEBRADOS: UN MUNDO POR DESCUBRIR', 'Maria Alejandra Durán Gámez ': 'EL RASTRO DEL DELITO', 'Daniel Felipe Vega Muñoz ': 'INVERTEBRADOS: UN MUNDO POR DESCUBRIR', 'Carol Gabriela Díaz gamboa': 'EL RASTRO DEL DELITO', 'Nikol Sofía Gil Jiménez ': 'LA BRIGADA DE EMERGENCIA', 'Ángel Daniel Ramírez Vento ': 'INVERTEBRADOS: UN MUNDO POR DESCUBRIR', 'Sebastián Roldán Montero': 'INVERTEBRADOS: UN MUNDO POR DESCUBRIR', 'Angel Leandro Marta Linares': 'LA BRIGADA DE EMERGENCIA', 'Juan Camilo castro Mateus ': 'LA BRIGADA DE EMERGENCIA', 'Ashley Natalia Villalba Sánchez ': 'PAP PARA LA VIDA', 'Lizy Valeria Londoño Tapiero': 'INVERTEBRADOS: UN MUNDO POR DESCUBRIR', 'miguel angel Talero Arévalo ': 'AMBIENTANDO LA CIENCIA', 'Juan Sebastián Escobar Cantin': 'AMBIENTANDO LA CIENCIA', 'Nicolás Santiago Villarreal Orjuela ': 'LA BRIGADA DE EMERGENCIA', 'Cristian Alexander Rico Alvernia': 'COLORES DE RESILIENCIA', 'Esteban Alejandro alba Linarez': 'LA BRIGADA DE EMERGENCIA', 'Herman Stiven Medina Chicaiza ': 'INVERTEBRADOS: UN MUNDO POR DESCUBRIR', 'Sebastian David Ruiz Rodríguez ': 'LA BRIGADA DE EMERGENCIA', 'Eileen Katherine Pinilla Torres': 'COMUNICACIÓN DIGITAL', 'María Camila Villamil Martinez ': 'PAP PARA LA VIDA', 'Sara Valentina Antonio umbarila': 'PAP PARA LA VIDA', 'Maikol Sebastián castro Velasquez ': 'LA BRIGADA DE EMERGENCIA', 'Sara Camila Mendoza muñoz ': 'PAP PARA LA VIDA', 'Heidy Nataly Aldana Esteban ': 'AMBIENTANDO LA CIENCIA', 'Miguel angel fajardo loaiza': 'COMUNICACIÓN DIGITAL', 'Nicolás Marentes Garcia': 'INVERTEBRADOS: UN MUNDO POR DESCUBRIR', 'Valery Stefania Valbuena Gutiérrez ': 'COMUNICACIÓN DIGITAL', 'Anthony Javier Rodríguez Sierra': 'INVERTEBRADOS: UN MUNDO POR DESCUBRIR', 'Juan Fernando Romero Barahona ': 'LA BRIGADA DE EMERGENCIA', 'Karen Julieth Mendoza Franco ': 'PAP PARA LA VIDA', 'Emily juliana Ibanez Montoya ': 'PAP PARA LA VIDA', 'Estefanía Veloza Veloza': 'AMBIENTANDO LA CIENCIA', 'Laura Camila Perez Rodriguez ': 'PAP PARA LA VIDA', 'Kevin Alexander Villamil Trillos ': 'INVERTEBRADOS: UN MUNDO POR DESCUBRIR', 'Elkin Mateo Rozo Rodríguez ': 'INVERTEBRADOS: UN MUNDO POR DESCUBRIR', 'Juanita Camila Riascos Mancipe': 'AMBIENTANDO LA CIENCIA', 'Edna Saray Quiroga Vaquiro': 'PAP PARA LA VIDA', 'Joel Sebastián puentes murcia ': 'AMBIENTANDO LA CIENCIA', 'Juana Isabella Rodríguez Robayo': 'COMUNICACIÓN DIGITAL', 'Emely Sofía Franco Ramirez ': 'COLORES DE RESILIENCIA', 'Dayanna Alejandra Carrión Valencia ': 'PAP PARA LA VIDA', 'Santiago Salamanca Rojas ': 'PAP PARA LA VIDA', 'Karen Sofía Rodríguez Riaño ': 'COMUNICACIÓN DIGITAL', 'Sofia Valentina Pulido García ': 'COMUNICACIÓN DIGITAL', 'Alexander Toro Santos.': 'LA BRIGADA DE EMERGENCIA', 'Nicol Paola Mateus Peña': 'COLORES DE RESILIENCIA', 'Silvia Fernanda Tavera ayala': 'COLORES DE RESILIENCIA', 'Angel Tomas Lozada Peña': 'AMBIENTANDO LA CIENCIA', 'Sara Valentina Martínez calce tero ': 'PAP PARA LA VIDA', 'Ana María Sanabria culma ': 'PAP PARA LA VIDA', 'Evelyn Daian Garzón González ': 'AMBIENTANDO LA CIENCIA', 'Emily Saray Riaño Sandoval ': 'AMBIENTANDO LA CIENCIA', 'Jostin Daniel Prieto Cerón ': 'COMUNICACIÓN DIGITAL', 'Lesly Sofía Villalba Sánchez ': 'PAP PARA LA VIDA', 'María Camila Parra Gracia ': 'PAP PARA LA VIDA', 'Michelle Dayana Camargo Hurtado': 'COLORES DE RESILIENCIA', 'Nicolas gerardo pantoja nossa ': 'COMUNICACIÓN DIGITAL', 'Heidy Sarahí Ávila Salazar': 'LA BRIGADA DE EMERGENCIA', 'Michelle Samantha Hernández Moreno': 'COLORES DE RESILIENCIA', 'García Bernal Edison Fabian': 'LA BRIGADA DE EMERGENCIA', 'Mariana anzola valles ': 'AMBIENTANDO LA CIENCIA', 'Manuel Santiago Pérez Chavarria ': 'AMBIENTANDO LA CIENCIA', 'Michel Dayan Pérez Cano ': 'AMBIENTANDO LA CIENCIA', 'Melany juliana Moreno cazares': 'LA BRIGADA DE EMERGENCIA', 'Carol Dayana morera velandia': 'COMUNICACIÓN DIGITAL', 'Dylan Andrey Martinez Ahumada ': 'AMBIENTANDO LA CIENCIA', 'Faridt Stiven Ruiz Rodríguez ': 'LA BRIGADA DE EMERGENCIA', 'Saray Sophia Rodríguez Gracia': 'COLORES DE RESILIENCIA', 'Carlos Andrés Ávila Guerrero': 'AMBIENTANDO LA CIENCIA', 'Paula Andrea Barragan Sanabria ': 'COLORES DE RESILIENCIA', 'Adrián David Cupaje ': 'LA BRIGADA DE EMERGENCIA', 'Luisa Alejandra Lozano Martínez ': 'COLORES DE RESILIENCIA', 'Anderson David Sierra Ramirez': 'COMUNICACIÓN DIGITAL', 'Mathias Arévalo Brito': 'COMUNICACIÓN DIGITAL', 'Cristopher Castiblanco Cruz': 'COMUNICACIÓN DIGITAL', 'Kevin Daniel Ibáñez Duran': 'COMUNICACIÓN DIGITAL', 'Sara Sofía Rodríguez González ': 'COLORES DE RESILIENCIA', 'Joel Andrey Amaya Motivar ': 'COLORES DE RESILIENCIA', 'Juan David Isaza Gutierrez': 'COLORES DE RESILIENCIA', 'Jeffer Andrés Pacheco Vargas': 'COLORES DE RESILIENCIA'}\n"
     ]
    }
   ],
   "source": [
    "def assign_seminars(student_preferences, seminar_capacities):\n",
    "    assigned_seminars = {}\n",
    "    for student, preferences in student_preferences.items():\n",
    "        for seminar in preferences:\n",
    "            if seminar_capacities[seminar] > 0:\n",
    "                assigned_seminars[student] = seminar\n",
    "                seminar_capacities[seminar] -= 1\n",
    "                break\n",
    "    return assigned_seminars\n",
    "\n",
    "assigned_seminars = assign_seminars(student_preferences, seminar_capacities)\n",
    "print(assigned_seminars)"
   ]
  },
  {
   "cell_type": "code",
   "execution_count": 212,
   "metadata": {},
   "outputs": [
    {
     "data": {
      "text/html": [
       "<div>\n",
       "<style scoped>\n",
       "    .dataframe tbody tr th:only-of-type {\n",
       "        vertical-align: middle;\n",
       "    }\n",
       "\n",
       "    .dataframe tbody tr th {\n",
       "        vertical-align: top;\n",
       "    }\n",
       "\n",
       "    .dataframe thead th {\n",
       "        text-align: right;\n",
       "    }\n",
       "</style>\n",
       "<table border=\"1\" class=\"dataframe\">\n",
       "  <thead>\n",
       "    <tr style=\"text-align: right;\">\n",
       "      <th></th>\n",
       "      <th>Nombre</th>\n",
       "      <th>Seminario</th>\n",
       "    </tr>\n",
       "  </thead>\n",
       "  <tbody>\n",
       "    <tr>\n",
       "      <th>0</th>\n",
       "      <td>Linconl Javier Sánchez fajardo</td>\n",
       "      <td>INVERTEBRADOS: UN MUNDO POR DESCUBRIR</td>\n",
       "    </tr>\n",
       "    <tr>\n",
       "      <th>1</th>\n",
       "      <td>D?v?ra Esneider Mendivelso Caceres</td>\n",
       "      <td>INVERTEBRADOS: UN MUNDO POR DESCUBRIR</td>\n",
       "    </tr>\n",
       "    <tr>\n",
       "      <th>2</th>\n",
       "      <td>Nixon Sánchez</td>\n",
       "      <td>EL RASTRO DEL DELITO</td>\n",
       "    </tr>\n",
       "    <tr>\n",
       "      <th>3</th>\n",
       "      <td>Juan Sebastian Velasco Carmona</td>\n",
       "      <td>EL RASTRO DEL DELITO</td>\n",
       "    </tr>\n",
       "    <tr>\n",
       "      <th>4</th>\n",
       "      <td>Jireth Sofia Galvis Rugeles</td>\n",
       "      <td>EL RASTRO DEL DELITO</td>\n",
       "    </tr>\n",
       "  </tbody>\n",
       "</table>\n",
       "</div>"
      ],
      "text/plain": [
       "                               Nombre                              Seminario\n",
       "0     Linconl Javier Sánchez fajardo   INVERTEBRADOS: UN MUNDO POR DESCUBRIR\n",
       "1  D?v?ra Esneider Mendivelso Caceres  INVERTEBRADOS: UN MUNDO POR DESCUBRIR\n",
       "2                      Nixon Sánchez                    EL RASTRO DEL DELITO\n",
       "3     Juan Sebastian Velasco Carmona                    EL RASTRO DEL DELITO\n",
       "4         Jireth Sofia Galvis Rugeles                   EL RASTRO DEL DELITO"
      ]
     },
     "execution_count": 212,
     "metadata": {},
     "output_type": "execute_result"
    }
   ],
   "source": [
    "final_df = pd.DataFrame(list(assigned_seminars.items()), columns=['Nombre', 'Seminario'])\n",
    "\n",
    "final_df.head()"
   ]
  },
  {
   "cell_type": "code",
   "execution_count": 214,
   "metadata": {},
   "outputs": [],
   "source": [
    "workbook = xlsxwriter.Workbook('asignacion_seminarios.xlsx')\n",
    "seminarios = final_df['Seminario'].unique()\n",
    "\n",
    "for seminario in seminarios:\n",
    "    sheet_name = re.sub(r'[:?/\\\\*\\[\\]\\'\"]', '_', seminario)[:31]\n",
    "    worksheet = workbook.add_worksheet(sheet_name)\n",
    "    worksheet.set_default_row(15)\n",
    "    seminario_df = final_df[final_df['Seminario'] == seminario].dropna(how='all')\n",
    "    worksheet.write_row(0, 0, seminario_df.columns.tolist())\n",
    "    for index, row in seminario_df.iterrows():\n",
    "        worksheet.write_row(index + 1, 0, row.tolist())\n",
    "\n",
    "workbook.close()"
   ]
  },
  {
   "cell_type": "code",
   "execution_count": 215,
   "metadata": {},
   "outputs": [],
   "source": [
    "\n",
    "wb = openpyxl.load_workbook('asignacion_seminarios.xlsx')\n",
    "for sheet_name in wb.sheetnames:\n",
    "    ws = wb[sheet_name]\n",
    "    for row in range(ws.max_row, 0, -1):\n",
    "        if all(cell.value is None for cell in ws[row]):\n",
    "            ws.delete_rows(row)\n",
    "\n",
    "\n",
    "wb.save('asignacion_seminarios.xlsx')"
   ]
  }
 ],
 "metadata": {
  "kernelspec": {
   "display_name": "Python 3",
   "language": "python",
   "name": "python3"
  },
  "language_info": {
   "codemirror_mode": {
    "name": "ipython",
    "version": 3
   },
   "file_extension": ".py",
   "mimetype": "text/x-python",
   "name": "python",
   "nbconvert_exporter": "python",
   "pygments_lexer": "ipython3",
   "version": "3.12.4"
  }
 },
 "nbformat": 4,
 "nbformat_minor": 2
}
