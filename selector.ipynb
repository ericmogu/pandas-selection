{
 "cells": [
  {
   "cell_type": "markdown",
   "metadata": {},
   "source": [
    "importacion de la liberia"
   ]
  },
  {
   "cell_type": "code",
   "execution_count": 15,
   "metadata": {},
   "outputs": [],
   "source": [
    "import pandas as pd\n",
    "import chardet "
   ]
  },
  {
   "cell_type": "markdown",
   "metadata": {},
   "source": [
    "Analisis y carga del archivo, revision de la codificacion"
   ]
  },
  {
   "cell_type": "code",
   "execution_count": 16,
   "metadata": {},
   "outputs": [
    {
     "name": "stdout",
     "output_type": "stream",
     "text": [
      "The encoding of the file is: ISO-8859-1\n"
     ]
    }
   ],
   "source": [
    "file = r\"C:/Users/ericm/Documents/Python/pandas-selection/pandas_selector/file.csv\"\n",
    "def detect_encoding(file_path): \n",
    "    with open(file_path, 'rb') as file: \n",
    "        detector = chardet.universaldetector.UniversalDetector() \n",
    "        for line in file: \n",
    "            detector.feed(line) \n",
    "            if detector.done: \n",
    "                break\n",
    "        detector.close() \n",
    "    return detector.result['encoding'] \n",
    "\n",
    "encoding = detect_encoding(file) \n",
    "print(f'The encoding of the file is: {encoding}') "
   ]
  },
  {
   "cell_type": "code",
   "execution_count": 18,
   "metadata": {},
   "outputs": [
    {
     "data": {
      "text/html": [
       "<div>\n",
       "<style scoped>\n",
       "    .dataframe tbody tr th:only-of-type {\n",
       "        vertical-align: middle;\n",
       "    }\n",
       "\n",
       "    .dataframe tbody tr th {\n",
       "        vertical-align: top;\n",
       "    }\n",
       "\n",
       "    .dataframe thead th {\n",
       "        text-align: right;\n",
       "    }\n",
       "</style>\n",
       "<table border=\"1\" class=\"dataframe\">\n",
       "  <thead>\n",
       "    <tr style=\"text-align: right;\">\n",
       "      <th></th>\n",
       "      <th>ID</th>\n",
       "      <th>Hora de inicio</th>\n",
       "      <th>Hora de finalización</th>\n",
       "      <th>Correo electrónico</th>\n",
       "      <th>Nombre</th>\n",
       "      <th>Nombre Completo</th>\n",
       "      <th>Correo electrónico2</th>\n",
       "      <th>Colegio al cual pertenecen</th>\n",
       "      <th>Curso</th>\n",
       "      <th>¿ Qué carrera profesional, técnica o tecnológica le gustaría estudiar una vez finalizada su etapa escolar?</th>\n",
       "      <th>Ordene los seminarios desde el que mas llamo su atención al que menos atrajo su interés.</th>\n",
       "    </tr>\n",
       "  </thead>\n",
       "  <tbody>\n",
       "    <tr>\n",
       "      <th>0</th>\n",
       "      <td>117</td>\n",
       "      <td>2/24/24 9:30:43</td>\n",
       "      <td>2/24/24 9:31:45</td>\n",
       "      <td>anonymous</td>\n",
       "      <td></td>\n",
       "      <td>Linconl Javier Sánchez fajardo</td>\n",
       "      <td>201412093@calasanzbuenavista.edu.co</td>\n",
       "      <td>IED Buenavista Calasanz</td>\n",
       "      <td>9C</td>\n",
       "      <td>Ingeniería civil</td>\n",
       "      <td>INVERTEBRADOS: UN MUNDO POR DESCUBRIR;EL RASTR...</td>\n",
       "    </tr>\n",
       "    <tr>\n",
       "      <th>1</th>\n",
       "      <td>118</td>\n",
       "      <td>2/24/24 9:30:56</td>\n",
       "      <td>2/24/24 9:32:42</td>\n",
       "      <td>anonymous</td>\n",
       "      <td></td>\n",
       "      <td>D?v?ra Esneider Mendivelso Caceres</td>\n",
       "      <td>201512080@calasanzbuenavista.edu.co</td>\n",
       "      <td>IED Buenavista Calasanz</td>\n",
       "      <td>9C</td>\n",
       "      <td>No sé</td>\n",
       "      <td>INVERTEBRADOS: UN MUNDO POR DESCUBRIR;EL RASTR...</td>\n",
       "    </tr>\n",
       "  </tbody>\n",
       "</table>\n",
       "</div>"
      ],
      "text/plain": [
       "    ID   Hora de inicio Hora de finalización Correo electrónico Nombre  \\\n",
       "0  117  2/24/24 9:30:43      2/24/24 9:31:45          anonymous          \n",
       "1  118  2/24/24 9:30:56      2/24/24 9:32:42          anonymous          \n",
       "\n",
       "                      Nombre Completo                  Correo electrónico2  \\\n",
       "0     Linconl Javier Sánchez fajardo   201412093@calasanzbuenavista.edu.co   \n",
       "1  D?v?ra Esneider Mendivelso Caceres  201512080@calasanzbuenavista.edu.co   \n",
       "\n",
       "  Colegio al cual pertenecen Curso  \\\n",
       "0    IED Buenavista Calasanz    9C   \n",
       "1    IED Buenavista Calasanz    9C   \n",
       "\n",
       "  ¿ Qué carrera profesional, técnica o tecnológica le gustaría estudiar una vez finalizada su etapa escolar?  \\\n",
       "0                                  Ingeniería civil                                                            \n",
       "1                                             No sé                                                            \n",
       "\n",
       "  Ordene los seminarios desde el que mas llamo su atención al que menos atrajo su interés.  \n",
       "0  INVERTEBRADOS: UN MUNDO POR DESCUBRIR;EL RASTR...                                        \n",
       "1  INVERTEBRADOS: UN MUNDO POR DESCUBRIR;EL RASTR...                                        "
      ]
     },
     "execution_count": 18,
     "metadata": {},
     "output_type": "execute_result"
    }
   ],
   "source": [
    "df = pd.read_csv(file, na_filter=False, sep=';', encoding= 'ISO-8859-1')\n",
    "df.head(2)\n"
   ]
  }
 ],
 "metadata": {
  "kernelspec": {
   "display_name": "Python 3",
   "language": "python",
   "name": "python3"
  },
  "language_info": {
   "codemirror_mode": {
    "name": "ipython",
    "version": 3
   },
   "file_extension": ".py",
   "mimetype": "text/x-python",
   "name": "python",
   "nbconvert_exporter": "python",
   "pygments_lexer": "ipython3",
   "version": "3.12.4"
  }
 },
 "nbformat": 4,
 "nbformat_minor": 2
}
