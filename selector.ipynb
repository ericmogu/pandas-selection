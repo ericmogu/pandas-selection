{
 "cells": [
  {
   "cell_type": "markdown",
   "metadata": {},
   "source": [
    "## <span style=\"color:#F25C5C\">SELECTOR DE SEMINARIOS</span> "
   ]
  },
  {
   "cell_type": "markdown",
   "metadata": {},
   "source": [
    "### <span style=\"color:#898DD9\">Ten en cuenta que al menos una vez debes instalar las librerías necesarias para que funcione el script.</span>\n",
    "\n",
    "##### <span style=\"color:#9BF2C1\">¡En caso de tener las librerías instaladas omitir este paso!</span>"
   ]
  },
  {
   "cell_type": "code",
   "execution_count": 227,
   "metadata": {},
   "outputs": [],
   "source": [
    "import subprocess\n",
    "import sys\n",
    "\n",
    "def install(package):\n",
    "    subprocess.check_call([sys.executable, \"-m\", \"pip\", \"install\", package])\n",
    "\n",
    "install('pandas')\n",
    "install('numpy')\n",
    "install('chardet')\n",
    "install('xlsxwriter')\n",
    "install('openpyxl')"
   ]
  },
  {
   "cell_type": "markdown",
   "metadata": {},
   "source": [
    "### <span style=\"color:#898DD9\">Se importan las librerías necesarias para correr el script</span>"
   ]
  },
  {
   "cell_type": "code",
   "execution_count": 235,
   "metadata": {},
   "outputs": [],
   "source": [
    "import pandas as pd\n",
    "import numpy as np\n",
    "import chardet \n",
    "import xlsxwriter\n",
    "import re\n",
    "import openpyxl\n",
    "from openpyxl.utils import get_column_letter"
   ]
  },
  {
   "cell_type": "markdown",
   "metadata": {},
   "source": [
    "### <span style=\"color:#898DD9\">Se Analizan y cargan los archivos, revisión de la codificación para una futura exportación del archivo</span>\n"
   ]
  },
  {
   "cell_type": "code",
   "execution_count": 236,
   "metadata": {},
   "outputs": [
    {
     "name": "stdout",
     "output_type": "stream",
     "text": [
      "The encoding of the file is: ISO-8859-1\n"
     ]
    }
   ],
   "source": [
    "file = r\"file.csv\"\n",
    "def detect_encoding(file_path): \n",
    "    with open(file_path, 'rb') as file: \n",
    "        detector = chardet.universaldetector.UniversalDetector() \n",
    "        for line in file: \n",
    "            detector.feed(line) \n",
    "            if detector.done: \n",
    "                break\n",
    "        detector.close() \n",
    "    return detector.result['encoding'] \n",
    "\n",
    "encoding = detect_encoding(file) \n",
    "print(f'The encoding of the file is: {encoding}') "
   ]
  },
  {
   "cell_type": "markdown",
   "metadata": {},
   "source": [
    "### <span style=\"color:#898DD9\">Carga del archivo y eliminación de las series innecesarias</span>"
   ]
  },
  {
   "cell_type": "code",
   "execution_count": 237,
   "metadata": {},
   "outputs": [
    {
     "data": {
      "text/html": [
       "<div>\n",
       "<style scoped>\n",
       "    .dataframe tbody tr th:only-of-type {\n",
       "        vertical-align: middle;\n",
       "    }\n",
       "\n",
       "    .dataframe tbody tr th {\n",
       "        vertical-align: top;\n",
       "    }\n",
       "\n",
       "    .dataframe thead th {\n",
       "        text-align: right;\n",
       "    }\n",
       "</style>\n",
       "<table border=\"1\" class=\"dataframe\">\n",
       "  <thead>\n",
       "    <tr style=\"text-align: right;\">\n",
       "      <th></th>\n",
       "      <th>Nombre Completo</th>\n",
       "      <th>Ordene los seminarios desde el que mas llamo su atención al que menos atrajo su interés.</th>\n",
       "    </tr>\n",
       "  </thead>\n",
       "  <tbody>\n",
       "    <tr>\n",
       "      <th>0</th>\n",
       "      <td>Linconl Javier Sánchez fajardo</td>\n",
       "      <td>INVERTEBRADOS: UN MUNDO POR DESCUBRIR;EL RASTR...</td>\n",
       "    </tr>\n",
       "    <tr>\n",
       "      <th>1</th>\n",
       "      <td>D?v?ra Esneider Mendivelso Caceres</td>\n",
       "      <td>INVERTEBRADOS: UN MUNDO POR DESCUBRIR;EL RASTR...</td>\n",
       "    </tr>\n",
       "    <tr>\n",
       "      <th>2</th>\n",
       "      <td>Nixon Sánchez</td>\n",
       "      <td>EL RASTRO DEL DELITO;AMBIENTANDO LA CIENCIA;CO...</td>\n",
       "    </tr>\n",
       "    <tr>\n",
       "      <th>3</th>\n",
       "      <td>Juan Sebastian Velasco Carmona</td>\n",
       "      <td>EL RASTRO DEL DELITO;COMUNICACIÓN DIGITAL;COLO...</td>\n",
       "    </tr>\n",
       "    <tr>\n",
       "      <th>4</th>\n",
       "      <td>Jireth Sofia Galvis Rugeles</td>\n",
       "      <td>EL RASTRO DEL DELITO;COMUNICACIÓN DIGITAL;LA B...</td>\n",
       "    </tr>\n",
       "    <tr>\n",
       "      <th>5</th>\n",
       "      <td>Abigail Maria Caldera Gonzalez</td>\n",
       "      <td>EL RASTRO DEL DELITO;AMBIENTANDO LA CIENCIA;CO...</td>\n",
       "    </tr>\n",
       "    <tr>\n",
       "      <th>6</th>\n",
       "      <td>Daniel Sebastián Muñoz Vargas</td>\n",
       "      <td>INVERTEBRADOS: UN MUNDO POR DESCUBRIR;PAP PARA...</td>\n",
       "    </tr>\n",
       "    <tr>\n",
       "      <th>7</th>\n",
       "      <td>María Catalina Ducuara Vela</td>\n",
       "      <td>EL RASTRO DEL DELITO;COMUNICACIÓN DIGITAL;AMBI...</td>\n",
       "    </tr>\n",
       "    <tr>\n",
       "      <th>8</th>\n",
       "      <td>Juan Andrés Rojas Contreras</td>\n",
       "      <td>EL RASTRO DEL DELITO;LA BRIGADA DE EMERGENCIA;...</td>\n",
       "    </tr>\n",
       "    <tr>\n",
       "      <th>9</th>\n",
       "      <td>Daniel Alejandro Timoteo torres</td>\n",
       "      <td>EL RASTRO DEL DELITO;LA BRIGADA DE EMERGENCIA;...</td>\n",
       "    </tr>\n",
       "  </tbody>\n",
       "</table>\n",
       "</div>"
      ],
      "text/plain": [
       "                      Nombre Completo  \\\n",
       "0     Linconl Javier Sánchez fajardo    \n",
       "1  D?v?ra Esneider Mendivelso Caceres   \n",
       "2                      Nixon Sánchez    \n",
       "3     Juan Sebastian Velasco Carmona    \n",
       "4         Jireth Sofia Galvis Rugeles   \n",
       "5      Abigail Maria Caldera Gonzalez   \n",
       "6      Daniel Sebastián Muñoz Vargas    \n",
       "7         María Catalina Ducuara Vela   \n",
       "8        Juan Andrés Rojas Contreras    \n",
       "9    Daniel Alejandro Timoteo torres    \n",
       "\n",
       "  Ordene los seminarios desde el que mas llamo su atención al que menos atrajo su interés.  \n",
       "0  INVERTEBRADOS: UN MUNDO POR DESCUBRIR;EL RASTR...                                        \n",
       "1  INVERTEBRADOS: UN MUNDO POR DESCUBRIR;EL RASTR...                                        \n",
       "2  EL RASTRO DEL DELITO;AMBIENTANDO LA CIENCIA;CO...                                        \n",
       "3  EL RASTRO DEL DELITO;COMUNICACIÓN DIGITAL;COLO...                                        \n",
       "4  EL RASTRO DEL DELITO;COMUNICACIÓN DIGITAL;LA B...                                        \n",
       "5  EL RASTRO DEL DELITO;AMBIENTANDO LA CIENCIA;CO...                                        \n",
       "6  INVERTEBRADOS: UN MUNDO POR DESCUBRIR;PAP PARA...                                        \n",
       "7  EL RASTRO DEL DELITO;COMUNICACIÓN DIGITAL;AMBI...                                        \n",
       "8  EL RASTRO DEL DELITO;LA BRIGADA DE EMERGENCIA;...                                        \n",
       "9  EL RASTRO DEL DELITO;LA BRIGADA DE EMERGENCIA;...                                        "
      ]
     },
     "execution_count": 237,
     "metadata": {},
     "output_type": "execute_result"
    }
   ],
   "source": [
    "df = pd.read_csv(file, na_filter=False, sep=';', encoding= 'ISO-8859-1')\n",
    "df = df.drop('Nombre', axis=1) \n",
    "df = df.drop('¿ Qué carrera profesional, técnica o tecnológica le gustaría estudiar una vez finalizada su etapa escolar?', axis=1)\n",
    "df = df.drop('Correo electrónico', axis=1) \n",
    "df = df.drop('Correo electrónico2', axis=1) \n",
    "df = df.drop('ID', axis=1) \n",
    "df = df.drop('Hora de inicio', axis=1) \n",
    "df = df.drop('Hora de finalización', axis=1) \n",
    "df = df.drop('Curso', axis=1) \n",
    "df = df.drop('Colegio al cual pertenecen', axis=1) \n",
    "\n",
    "\n",
    "df.head(10)\n",
    "\n"
   ]
  },
  {
   "cell_type": "markdown",
   "metadata": {},
   "source": [
    "### <span style=\"color:#898DD9\">Se toman las series necesarias y se dividen la serie por seminarios para ser analizados</span>"
   ]
  },
  {
   "cell_type": "code",
   "execution_count": 238,
   "metadata": {},
   "outputs": [
    {
     "data": {
      "text/html": [
       "<div>\n",
       "<style scoped>\n",
       "    .dataframe tbody tr th:only-of-type {\n",
       "        vertical-align: middle;\n",
       "    }\n",
       "\n",
       "    .dataframe tbody tr th {\n",
       "        vertical-align: top;\n",
       "    }\n",
       "\n",
       "    .dataframe thead th {\n",
       "        text-align: right;\n",
       "    }\n",
       "</style>\n",
       "<table border=\"1\" class=\"dataframe\">\n",
       "  <thead>\n",
       "    <tr style=\"text-align: right;\">\n",
       "      <th></th>\n",
       "      <th>Nombre Completo</th>\n",
       "      <th>Seminario 1</th>\n",
       "      <th>Seminario 2</th>\n",
       "      <th>Seminario 3</th>\n",
       "      <th>Seminario 4</th>\n",
       "      <th>Seminario 5</th>\n",
       "      <th>Seminario 6</th>\n",
       "      <th>Seminario 7</th>\n",
       "    </tr>\n",
       "  </thead>\n",
       "  <tbody>\n",
       "    <tr>\n",
       "      <th>0</th>\n",
       "      <td>Linconl Javier Sánchez fajardo</td>\n",
       "      <td>INVERTEBRADOS: UN MUNDO POR DESCUBRIR</td>\n",
       "      <td>EL RASTRO DEL DELITO</td>\n",
       "      <td>COLORES DE RESILIENCIA</td>\n",
       "      <td>COMUNICACIÓN DIGITAL</td>\n",
       "      <td>AMBIENTANDO LA CIENCIA</td>\n",
       "      <td>LA BRIGADA DE EMERGENCIA</td>\n",
       "      <td>PAP PARA LA VIDA</td>\n",
       "    </tr>\n",
       "    <tr>\n",
       "      <th>1</th>\n",
       "      <td>D?v?ra Esneider Mendivelso Caceres</td>\n",
       "      <td>INVERTEBRADOS: UN MUNDO POR DESCUBRIR</td>\n",
       "      <td>EL RASTRO DEL DELITO</td>\n",
       "      <td>AMBIENTANDO LA CIENCIA</td>\n",
       "      <td>COLORES DE RESILIENCIA</td>\n",
       "      <td>LA BRIGADA DE EMERGENCIA</td>\n",
       "      <td>COMUNICACIÓN DIGITAL</td>\n",
       "      <td>PAP PARA LA VIDA</td>\n",
       "    </tr>\n",
       "    <tr>\n",
       "      <th>2</th>\n",
       "      <td>Nixon Sánchez</td>\n",
       "      <td>EL RASTRO DEL DELITO</td>\n",
       "      <td>AMBIENTANDO LA CIENCIA</td>\n",
       "      <td>COLORES DE RESILIENCIA</td>\n",
       "      <td>PAP PARA LA VIDA</td>\n",
       "      <td>COMUNICACIÓN DIGITAL</td>\n",
       "      <td>INVERTEBRADOS: UN MUNDO POR DESCUBRIR</td>\n",
       "      <td>LA BRIGADA DE EMERGENCIA</td>\n",
       "    </tr>\n",
       "    <tr>\n",
       "      <th>3</th>\n",
       "      <td>Juan Sebastian Velasco Carmona</td>\n",
       "      <td>EL RASTRO DEL DELITO</td>\n",
       "      <td>COMUNICACIÓN DIGITAL</td>\n",
       "      <td>COLORES DE RESILIENCIA</td>\n",
       "      <td>AMBIENTANDO LA CIENCIA</td>\n",
       "      <td>PAP PARA LA VIDA</td>\n",
       "      <td>LA BRIGADA DE EMERGENCIA</td>\n",
       "      <td>INVERTEBRADOS: UN MUNDO POR DESCUBRIR</td>\n",
       "    </tr>\n",
       "    <tr>\n",
       "      <th>4</th>\n",
       "      <td>Jireth Sofia Galvis Rugeles</td>\n",
       "      <td>EL RASTRO DEL DELITO</td>\n",
       "      <td>COMUNICACIÓN DIGITAL</td>\n",
       "      <td>LA BRIGADA DE EMERGENCIA</td>\n",
       "      <td>PAP PARA LA VIDA</td>\n",
       "      <td>COLORES DE RESILIENCIA</td>\n",
       "      <td>INVERTEBRADOS: UN MUNDO POR DESCUBRIR</td>\n",
       "      <td>AMBIENTANDO LA CIENCIA</td>\n",
       "    </tr>\n",
       "  </tbody>\n",
       "</table>\n",
       "</div>"
      ],
      "text/plain": [
       "                      Nombre Completo                            Seminario 1  \\\n",
       "0     Linconl Javier Sánchez fajardo   INVERTEBRADOS: UN MUNDO POR DESCUBRIR   \n",
       "1  D?v?ra Esneider Mendivelso Caceres  INVERTEBRADOS: UN MUNDO POR DESCUBRIR   \n",
       "2                      Nixon Sánchez                    EL RASTRO DEL DELITO   \n",
       "3     Juan Sebastian Velasco Carmona                    EL RASTRO DEL DELITO   \n",
       "4         Jireth Sofia Galvis Rugeles                   EL RASTRO DEL DELITO   \n",
       "\n",
       "              Seminario 2               Seminario 3             Seminario 4  \\\n",
       "0    EL RASTRO DEL DELITO    COLORES DE RESILIENCIA    COMUNICACIÓN DIGITAL   \n",
       "1    EL RASTRO DEL DELITO    AMBIENTANDO LA CIENCIA  COLORES DE RESILIENCIA   \n",
       "2  AMBIENTANDO LA CIENCIA    COLORES DE RESILIENCIA        PAP PARA LA VIDA   \n",
       "3    COMUNICACIÓN DIGITAL    COLORES DE RESILIENCIA  AMBIENTANDO LA CIENCIA   \n",
       "4    COMUNICACIÓN DIGITAL  LA BRIGADA DE EMERGENCIA        PAP PARA LA VIDA   \n",
       "\n",
       "                Seminario 5                            Seminario 6  \\\n",
       "0    AMBIENTANDO LA CIENCIA               LA BRIGADA DE EMERGENCIA   \n",
       "1  LA BRIGADA DE EMERGENCIA                   COMUNICACIÓN DIGITAL   \n",
       "2      COMUNICACIÓN DIGITAL  INVERTEBRADOS: UN MUNDO POR DESCUBRIR   \n",
       "3          PAP PARA LA VIDA               LA BRIGADA DE EMERGENCIA   \n",
       "4    COLORES DE RESILIENCIA  INVERTEBRADOS: UN MUNDO POR DESCUBRIR   \n",
       "\n",
       "                             Seminario 7  \n",
       "0                       PAP PARA LA VIDA  \n",
       "1                       PAP PARA LA VIDA  \n",
       "2               LA BRIGADA DE EMERGENCIA  \n",
       "3  INVERTEBRADOS: UN MUNDO POR DESCUBRIR  \n",
       "4                 AMBIENTANDO LA CIENCIA  "
      ]
     },
     "execution_count": 238,
     "metadata": {},
     "output_type": "execute_result"
    }
   ],
   "source": [
    "seminars = len(df['Ordene los seminarios desde el que mas llamo su atención al que menos atrajo su interés.'].iloc[0].split(';'))\n",
    "list_seminars = [f\"Seminario {i}\" for i in range(1, seminars +1)]\n",
    "df[list_seminars] = df['Ordene los seminarios desde el que mas llamo su atención al que menos atrajo su interés.'].str.split(';', n=seminars-1, expand=True)\n",
    "df = df.drop(columns=[list_seminars[-1]])\n",
    "df = df.drop('Ordene los seminarios desde el que mas llamo su atención al que menos atrajo su interés.', axis=1) \n",
    "df.head()"
   ]
  },
  {
   "cell_type": "markdown",
   "metadata": {},
   "source": [
    "### <span style=\"color:#898DD9\">Se crea un diccionario para organizar los estudiantes y la preferencia de los seminarios </span>"
   ]
  },
  {
   "cell_type": "code",
   "execution_count": 241,
   "metadata": {},
   "outputs": [
    {
     "name": "stdout",
     "output_type": "stream",
     "text": [
      "{'Linconl Javier Sánchez fajardo ': ['INVERTEBRADOS: UN MUNDO POR DESCUBRIR', 'EL RASTRO DEL DELITO', 'COLORES DE RESILIENCIA', 'COMUNICACIÓN DIGITAL', 'AMBIENTANDO LA CIENCIA', 'LA BRIGADA DE EMERGENCIA', 'PAP PARA LA VIDA'], 'D?v?ra Esneider Mendivelso Caceres': ['INVERTEBRADOS: UN MUNDO POR DESCUBRIR', 'EL RASTRO DEL DELITO', 'AMBIENTANDO LA CIENCIA', 'COLORES DE RESILIENCIA', 'LA BRIGADA DE EMERGENCIA', 'COMUNICACIÓN DIGITAL', 'PAP PARA LA VIDA'], 'Nixon Sánchez ': ['EL RASTRO DEL DELITO', 'AMBIENTANDO LA CIENCIA', 'COLORES DE RESILIENCIA', 'PAP PARA LA VIDA', 'COMUNICACIÓN DIGITAL', 'INVERTEBRADOS: UN MUNDO POR DESCUBRIR', 'LA BRIGADA DE EMERGENCIA'], 'Juan Sebastian Velasco Carmona ': ['EL RASTRO DEL DELITO', 'COMUNICACIÓN DIGITAL', 'COLORES DE RESILIENCIA', 'AMBIENTANDO LA CIENCIA', 'PAP PARA LA VIDA', 'LA BRIGADA DE EMERGENCIA', 'INVERTEBRADOS: UN MUNDO POR DESCUBRIR'], 'Jireth Sofia Galvis Rugeles': ['EL RASTRO DEL DELITO', 'COMUNICACIÓN DIGITAL', 'LA BRIGADA DE EMERGENCIA', 'PAP PARA LA VIDA', 'COLORES DE RESILIENCIA', 'INVERTEBRADOS: UN MUNDO POR DESCUBRIR', 'AMBIENTANDO LA CIENCIA'], 'Abigail Maria Caldera Gonzalez': ['EL RASTRO DEL DELITO', 'AMBIENTANDO LA CIENCIA', 'COLORES DE RESILIENCIA', 'INVERTEBRADOS: UN MUNDO POR DESCUBRIR', 'PAP PARA LA VIDA', 'LA BRIGADA DE EMERGENCIA', 'COMUNICACIÓN DIGITAL'], 'Daniel Sebastián Muñoz Vargas ': ['INVERTEBRADOS: UN MUNDO POR DESCUBRIR', 'PAP PARA LA VIDA', 'EL RASTRO DEL DELITO', 'COMUNICACIÓN DIGITAL', 'AMBIENTANDO LA CIENCIA', 'LA BRIGADA DE EMERGENCIA', 'COLORES DE RESILIENCIA'], 'María Catalina Ducuara Vela': ['EL RASTRO DEL DELITO', 'COMUNICACIÓN DIGITAL', 'AMBIENTANDO LA CIENCIA', 'INVERTEBRADOS: UN MUNDO POR DESCUBRIR', 'COLORES DE RESILIENCIA', 'LA BRIGADA DE EMERGENCIA', 'PAP PARA LA VIDA'], 'Juan Andrés Rojas Contreras ': ['EL RASTRO DEL DELITO', 'LA BRIGADA DE EMERGENCIA', 'INVERTEBRADOS: UN MUNDO POR DESCUBRIR', 'COLORES DE RESILIENCIA', 'COMUNICACIÓN DIGITAL', 'AMBIENTANDO LA CIENCIA', 'PAP PARA LA VIDA'], 'Daniel Alejandro Timoteo torres ': ['EL RASTRO DEL DELITO', 'LA BRIGADA DE EMERGENCIA', 'INVERTEBRADOS: UN MUNDO POR DESCUBRIR', 'COMUNICACIÓN DIGITAL', 'COLORES DE RESILIENCIA', 'AMBIENTANDO LA CIENCIA', 'PAP PARA LA VIDA'], 'Edward Santiago Torres Ariza ': ['EL RASTRO DEL DELITO', 'LA BRIGADA DE EMERGENCIA', 'AMBIENTANDO LA CIENCIA', 'INVERTEBRADOS: UN MUNDO POR DESCUBRIR', 'COLORES DE RESILIENCIA', 'COMUNICACIÓN DIGITAL', 'PAP PARA LA VIDA'], 'Zara Jireht Grisales Pérez ': ['EL RASTRO DEL DELITO', 'COMUNICACIÓN DIGITAL', 'COLORES DE RESILIENCIA', 'AMBIENTANDO LA CIENCIA', 'LA BRIGADA DE EMERGENCIA', 'PAP PARA LA VIDA', 'INVERTEBRADOS: UN MUNDO POR DESCUBRIR'], 'María Fernanda Vega Lugo ': ['EL RASTRO DEL DELITO', 'LA BRIGADA DE EMERGENCIA', 'PAP PARA LA VIDA', 'INVERTEBRADOS: UN MUNDO POR DESCUBRIR', 'AMBIENTANDO LA CIENCIA', 'COLORES DE RESILIENCIA', 'COMUNICACIÓN DIGITAL'], 'David santiago tapiero figueroa ': ['INVERTEBRADOS: UN MUNDO POR DESCUBRIR', 'COMUNICACIÓN DIGITAL', 'AMBIENTANDO LA CIENCIA', 'COLORES DE RESILIENCIA', 'LA BRIGADA DE EMERGENCIA', 'EL RASTRO DEL DELITO', 'PAP PARA LA VIDA'], 'Alisson Reyes Ibarra': ['EL RASTRO DEL DELITO', 'PAP PARA LA VIDA', 'LA BRIGADA DE EMERGENCIA', 'AMBIENTANDO LA CIENCIA', 'COLORES DE RESILIENCIA', 'INVERTEBRADOS: UN MUNDO POR DESCUBRIR', 'COMUNICACIÓN DIGITAL'], 'Michel Contreras Rendón': ['EL RASTRO DEL DELITO', 'PAP PARA LA VIDA', 'LA BRIGADA DE EMERGENCIA', 'INVERTEBRADOS: UN MUNDO POR DESCUBRIR', 'AMBIENTANDO LA CIENCIA', 'COLORES DE RESILIENCIA', 'COMUNICACIÓN DIGITAL'], 'Ana María Rodríguez Tafur ': ['INVERTEBRADOS: UN MUNDO POR DESCUBRIR', 'LA BRIGADA DE EMERGENCIA', 'AMBIENTANDO LA CIENCIA', 'PAP PARA LA VIDA', 'EL RASTRO DEL DELITO', 'COMUNICACIÓN DIGITAL', 'COLORES DE RESILIENCIA'], 'Maria Alejandra Durán Gámez ': ['EL RASTRO DEL DELITO', 'PAP PARA LA VIDA', 'COLORES DE RESILIENCIA', 'INVERTEBRADOS: UN MUNDO POR DESCUBRIR', 'COMUNICACIÓN DIGITAL', 'AMBIENTANDO LA CIENCIA', 'LA BRIGADA DE EMERGENCIA'], 'Daniel Felipe Vega Muñoz ': ['INVERTEBRADOS: UN MUNDO POR DESCUBRIR', 'AMBIENTANDO LA CIENCIA', 'LA BRIGADA DE EMERGENCIA', 'EL RASTRO DEL DELITO', 'COMUNICACIÓN DIGITAL', 'COLORES DE RESILIENCIA', 'PAP PARA LA VIDA'], 'Carol Gabriela Díaz gamboa': ['EL RASTRO DEL DELITO', 'AMBIENTANDO LA CIENCIA', 'LA BRIGADA DE EMERGENCIA', 'INVERTEBRADOS: UN MUNDO POR DESCUBRIR', 'PAP PARA LA VIDA', 'COLORES DE RESILIENCIA', 'COMUNICACIÓN DIGITAL'], 'Nikol Sofía Gil Jiménez ': ['EL RASTRO DEL DELITO', 'LA BRIGADA DE EMERGENCIA', 'COLORES DE RESILIENCIA', 'COMUNICACIÓN DIGITAL', 'AMBIENTANDO LA CIENCIA', 'INVERTEBRADOS: UN MUNDO POR DESCUBRIR', 'PAP PARA LA VIDA'], 'Ángel Daniel Ramírez Vento ': ['INVERTEBRADOS: UN MUNDO POR DESCUBRIR', 'EL RASTRO DEL DELITO', 'AMBIENTANDO LA CIENCIA', 'COMUNICACIÓN DIGITAL', 'LA BRIGADA DE EMERGENCIA', 'PAP PARA LA VIDA', 'COLORES DE RESILIENCIA'], 'Sebastián Roldán Montero': ['INVERTEBRADOS: UN MUNDO POR DESCUBRIR', 'AMBIENTANDO LA CIENCIA', 'COMUNICACIÓN DIGITAL', 'COLORES DE RESILIENCIA', 'EL RASTRO DEL DELITO', 'LA BRIGADA DE EMERGENCIA', 'PAP PARA LA VIDA'], 'Angel Leandro Marta Linares': ['LA BRIGADA DE EMERGENCIA', 'COMUNICACIÓN DIGITAL', 'EL RASTRO DEL DELITO', 'INVERTEBRADOS: UN MUNDO POR DESCUBRIR', 'COLORES DE RESILIENCIA', 'AMBIENTANDO LA CIENCIA', 'PAP PARA LA VIDA'], 'Juan Camilo castro Mateus ': ['EL RASTRO DEL DELITO', 'LA BRIGADA DE EMERGENCIA', 'INVERTEBRADOS: UN MUNDO POR DESCUBRIR', 'AMBIENTANDO LA CIENCIA', 'COMUNICACIÓN DIGITAL', 'PAP PARA LA VIDA', 'COLORES DE RESILIENCIA'], 'Ashley Natalia Villalba Sánchez ': ['EL RASTRO DEL DELITO', 'PAP PARA LA VIDA', 'LA BRIGADA DE EMERGENCIA', 'COMUNICACIÓN DIGITAL', 'AMBIENTANDO LA CIENCIA', 'COLORES DE RESILIENCIA', 'INVERTEBRADOS: UN MUNDO POR DESCUBRIR'], 'Lizy Valeria Londoño Tapiero': ['EL RASTRO DEL DELITO', 'INVERTEBRADOS: UN MUNDO POR DESCUBRIR', 'PAP PARA LA VIDA', 'AMBIENTANDO LA CIENCIA', 'LA BRIGADA DE EMERGENCIA', 'COLORES DE RESILIENCIA', 'COMUNICACIÓN DIGITAL'], 'miguel angel Talero Arévalo ': ['EL RASTRO DEL DELITO', 'AMBIENTANDO LA CIENCIA', 'INVERTEBRADOS: UN MUNDO POR DESCUBRIR', 'COMUNICACIÓN DIGITAL', 'LA BRIGADA DE EMERGENCIA', 'PAP PARA LA VIDA', 'COLORES DE RESILIENCIA'], 'Juan Sebastián Escobar Cantin': ['AMBIENTANDO LA CIENCIA', 'COMUNICACIÓN DIGITAL', 'INVERTEBRADOS: UN MUNDO POR DESCUBRIR', 'COLORES DE RESILIENCIA', 'EL RASTRO DEL DELITO', 'LA BRIGADA DE EMERGENCIA', 'PAP PARA LA VIDA'], 'Nicolás Santiago Villarreal Orjuela ': ['LA BRIGADA DE EMERGENCIA', 'COMUNICACIÓN DIGITAL', 'PAP PARA LA VIDA', 'EL RASTRO DEL DELITO', 'AMBIENTANDO LA CIENCIA', 'COLORES DE RESILIENCIA', 'INVERTEBRADOS: UN MUNDO POR DESCUBRIR'], 'Cristian Alexander Rico Alvernia': ['COLORES DE RESILIENCIA', 'INVERTEBRADOS: UN MUNDO POR DESCUBRIR', 'AMBIENTANDO LA CIENCIA', 'LA BRIGADA DE EMERGENCIA', 'COMUNICACIÓN DIGITAL', 'EL RASTRO DEL DELITO', 'PAP PARA LA VIDA'], 'Esteban Alejandro alba Linarez': ['EL RASTRO DEL DELITO', 'LA BRIGADA DE EMERGENCIA', 'AMBIENTANDO LA CIENCIA', 'INVERTEBRADOS: UN MUNDO POR DESCUBRIR', 'COMUNICACIÓN DIGITAL', 'COLORES DE RESILIENCIA', 'PAP PARA LA VIDA'], 'Herman Stiven Medina Chicaiza ': ['INVERTEBRADOS: UN MUNDO POR DESCUBRIR', 'EL RASTRO DEL DELITO', 'LA BRIGADA DE EMERGENCIA', 'AMBIENTANDO LA CIENCIA', 'PAP PARA LA VIDA', 'COLORES DE RESILIENCIA', 'COMUNICACIÓN DIGITAL'], 'Sebastian David Ruiz Rodríguez ': ['LA BRIGADA DE EMERGENCIA', 'INVERTEBRADOS: UN MUNDO POR DESCUBRIR', 'COLORES DE RESILIENCIA', 'COMUNICACIÓN DIGITAL', 'EL RASTRO DEL DELITO', 'PAP PARA LA VIDA', 'AMBIENTANDO LA CIENCIA'], 'Eileen Katherine Pinilla Torres': ['EL RASTRO DEL DELITO', 'COMUNICACIÓN DIGITAL', 'INVERTEBRADOS: UN MUNDO POR DESCUBRIR', 'COLORES DE RESILIENCIA', 'PAP PARA LA VIDA', 'AMBIENTANDO LA CIENCIA', 'LA BRIGADA DE EMERGENCIA'], 'María Camila Villamil Martinez ': ['EL RASTRO DEL DELITO', 'PAP PARA LA VIDA', 'COMUNICACIÓN DIGITAL', 'INVERTEBRADOS: UN MUNDO POR DESCUBRIR', 'COLORES DE RESILIENCIA', 'AMBIENTANDO LA CIENCIA', 'LA BRIGADA DE EMERGENCIA'], 'Sara Valentina Antonio umbarila': ['EL RASTRO DEL DELITO', 'PAP PARA LA VIDA', 'COMUNICACIÓN DIGITAL', 'INVERTEBRADOS: UN MUNDO POR DESCUBRIR', 'COLORES DE RESILIENCIA', 'AMBIENTANDO LA CIENCIA', 'LA BRIGADA DE EMERGENCIA'], 'Maikol Sebastián castro Velasquez ': ['EL RASTRO DEL DELITO', 'LA BRIGADA DE EMERGENCIA', 'INVERTEBRADOS: UN MUNDO POR DESCUBRIR', 'AMBIENTANDO LA CIENCIA', 'COMUNICACIÓN DIGITAL', 'PAP PARA LA VIDA', 'COLORES DE RESILIENCIA'], 'Sara Camila Mendoza muñoz ': ['EL RASTRO DEL DELITO', 'PAP PARA LA VIDA', 'COMUNICACIÓN DIGITAL', 'LA BRIGADA DE EMERGENCIA', 'AMBIENTANDO LA CIENCIA', 'COLORES DE RESILIENCIA', 'INVERTEBRADOS: UN MUNDO POR DESCUBRIR'], 'Heidy Nataly Aldana Esteban ': ['EL RASTRO DEL DELITO', 'AMBIENTANDO LA CIENCIA', 'INVERTEBRADOS: UN MUNDO POR DESCUBRIR', 'COLORES DE RESILIENCIA', 'COMUNICACIÓN DIGITAL', 'PAP PARA LA VIDA', 'LA BRIGADA DE EMERGENCIA'], 'Miguel angel fajardo loaiza': ['COMUNICACIÓN DIGITAL', 'PAP PARA LA VIDA', 'EL RASTRO DEL DELITO', 'LA BRIGADA DE EMERGENCIA', 'COLORES DE RESILIENCIA', 'INVERTEBRADOS: UN MUNDO POR DESCUBRIR', 'AMBIENTANDO LA CIENCIA'], 'Nicolás Marentes Garcia': ['INVERTEBRADOS: UN MUNDO POR DESCUBRIR', 'EL RASTRO DEL DELITO', 'LA BRIGADA DE EMERGENCIA', 'AMBIENTANDO LA CIENCIA', 'COMUNICACIÓN DIGITAL', 'COLORES DE RESILIENCIA', 'PAP PARA LA VIDA'], 'Valery Stefania Valbuena Gutiérrez ': ['EL RASTRO DEL DELITO', 'COMUNICACIÓN DIGITAL', 'INVERTEBRADOS: UN MUNDO POR DESCUBRIR', 'PAP PARA LA VIDA', 'COLORES DE RESILIENCIA', 'AMBIENTANDO LA CIENCIA', 'LA BRIGADA DE EMERGENCIA'], 'Anthony Javier Rodríguez Sierra': ['INVERTEBRADOS: UN MUNDO POR DESCUBRIR', 'EL RASTRO DEL DELITO', 'LA BRIGADA DE EMERGENCIA', 'AMBIENTANDO LA CIENCIA', 'COLORES DE RESILIENCIA', 'COMUNICACIÓN DIGITAL', 'PAP PARA LA VIDA'], 'Juan Fernando Romero Barahona ': ['EL RASTRO DEL DELITO', 'LA BRIGADA DE EMERGENCIA', 'COMUNICACIÓN DIGITAL', 'AMBIENTANDO LA CIENCIA', 'INVERTEBRADOS: UN MUNDO POR DESCUBRIR', 'PAP PARA LA VIDA', 'COLORES DE RESILIENCIA'], 'Karen Julieth Mendoza Franco ': ['EL RASTRO DEL DELITO', 'PAP PARA LA VIDA', 'LA BRIGADA DE EMERGENCIA', 'INVERTEBRADOS: UN MUNDO POR DESCUBRIR', 'AMBIENTANDO LA CIENCIA', 'COLORES DE RESILIENCIA', 'COMUNICACIÓN DIGITAL'], 'Emily juliana Ibanez Montoya ': ['PAP PARA LA VIDA', 'EL RASTRO DEL DELITO', 'COLORES DE RESILIENCIA', 'INVERTEBRADOS: UN MUNDO POR DESCUBRIR', 'COMUNICACIÓN DIGITAL', 'AMBIENTANDO LA CIENCIA', 'LA BRIGADA DE EMERGENCIA'], 'Estefanía Veloza Veloza': ['EL RASTRO DEL DELITO', 'AMBIENTANDO LA CIENCIA', 'PAP PARA LA VIDA', 'INVERTEBRADOS: UN MUNDO POR DESCUBRIR', 'LA BRIGADA DE EMERGENCIA', 'COLORES DE RESILIENCIA', 'COMUNICACIÓN DIGITAL'], 'Laura Camila Perez Rodriguez ': ['EL RASTRO DEL DELITO', 'PAP PARA LA VIDA', 'LA BRIGADA DE EMERGENCIA', 'INVERTEBRADOS: UN MUNDO POR DESCUBRIR', 'COLORES DE RESILIENCIA', 'AMBIENTANDO LA CIENCIA', 'COMUNICACIÓN DIGITAL'], 'Kevin Alexander Villamil Trillos ': ['INVERTEBRADOS: UN MUNDO POR DESCUBRIR', 'EL RASTRO DEL DELITO', 'LA BRIGADA DE EMERGENCIA', 'AMBIENTANDO LA CIENCIA', 'COMUNICACIÓN DIGITAL', 'COLORES DE RESILIENCIA', 'PAP PARA LA VIDA'], 'Elkin Mateo Rozo Rodríguez ': ['EL RASTRO DEL DELITO', 'INVERTEBRADOS: UN MUNDO POR DESCUBRIR', 'AMBIENTANDO LA CIENCIA', 'LA BRIGADA DE EMERGENCIA', 'PAP PARA LA VIDA', 'COLORES DE RESILIENCIA', 'COMUNICACIÓN DIGITAL'], 'Juanita Camila Riascos Mancipe': ['EL RASTRO DEL DELITO', 'INVERTEBRADOS: UN MUNDO POR DESCUBRIR', 'AMBIENTANDO LA CIENCIA', 'LA BRIGADA DE EMERGENCIA', 'COMUNICACIÓN DIGITAL', 'COLORES DE RESILIENCIA', 'PAP PARA LA VIDA'], 'Edna Saray Quiroga Vaquiro': ['PAP PARA LA VIDA', 'EL RASTRO DEL DELITO', 'COLORES DE RESILIENCIA', 'INVERTEBRADOS: UN MUNDO POR DESCUBRIR', 'AMBIENTANDO LA CIENCIA', 'LA BRIGADA DE EMERGENCIA', 'COMUNICACIÓN DIGITAL'], 'Joel Sebastián puentes murcia ': ['INVERTEBRADOS: UN MUNDO POR DESCUBRIR', 'AMBIENTANDO LA CIENCIA', 'EL RASTRO DEL DELITO', 'LA BRIGADA DE EMERGENCIA', 'COLORES DE RESILIENCIA', 'COMUNICACIÓN DIGITAL', 'PAP PARA LA VIDA'], 'Juana Isabella Rodríguez Robayo': ['EL RASTRO DEL DELITO', 'COMUNICACIÓN DIGITAL', 'INVERTEBRADOS: UN MUNDO POR DESCUBRIR', 'LA BRIGADA DE EMERGENCIA', 'COLORES DE RESILIENCIA', 'AMBIENTANDO LA CIENCIA', 'PAP PARA LA VIDA'], 'Emely Sofía Franco Ramirez ': ['EL RASTRO DEL DELITO', 'COLORES DE RESILIENCIA', 'PAP PARA LA VIDA', 'INVERTEBRADOS: UN MUNDO POR DESCUBRIR', 'COMUNICACIÓN DIGITAL', 'AMBIENTANDO LA CIENCIA', 'LA BRIGADA DE EMERGENCIA'], 'Dayanna Alejandra Carrión Valencia ': ['PAP PARA LA VIDA', 'COLORES DE RESILIENCIA', 'EL RASTRO DEL DELITO', 'AMBIENTANDO LA CIENCIA', 'INVERTEBRADOS: UN MUNDO POR DESCUBRIR', 'COMUNICACIÓN DIGITAL', 'LA BRIGADA DE EMERGENCIA'], 'Santiago Salamanca Rojas ': ['PAP PARA LA VIDA', 'AMBIENTANDO LA CIENCIA', 'EL RASTRO DEL DELITO', 'COLORES DE RESILIENCIA', 'INVERTEBRADOS: UN MUNDO POR DESCUBRIR', 'COMUNICACIÓN DIGITAL', 'LA BRIGADA DE EMERGENCIA'], 'Karen Sofía Rodríguez Riaño ': ['COMUNICACIÓN DIGITAL', 'PAP PARA LA VIDA', 'EL RASTRO DEL DELITO', 'COLORES DE RESILIENCIA', 'LA BRIGADA DE EMERGENCIA', 'AMBIENTANDO LA CIENCIA', 'INVERTEBRADOS: UN MUNDO POR DESCUBRIR'], 'Sofia Valentina Pulido García ': ['EL RASTRO DEL DELITO', 'COMUNICACIÓN DIGITAL', 'COLORES DE RESILIENCIA', 'LA BRIGADA DE EMERGENCIA', 'PAP PARA LA VIDA', 'AMBIENTANDO LA CIENCIA', 'INVERTEBRADOS: UN MUNDO POR DESCUBRIR'], 'Alexander Toro Santos.': ['LA BRIGADA DE EMERGENCIA', 'EL RASTRO DEL DELITO', 'INVERTEBRADOS: UN MUNDO POR DESCUBRIR', 'PAP PARA LA VIDA', 'AMBIENTANDO LA CIENCIA', 'COLORES DE RESILIENCIA', 'COMUNICACIÓN DIGITAL'], 'Nicol Paola Mateus Peña': ['EL RASTRO DEL DELITO', 'COLORES DE RESILIENCIA', 'COMUNICACIÓN DIGITAL', 'PAP PARA LA VIDA', 'LA BRIGADA DE EMERGENCIA', 'AMBIENTANDO LA CIENCIA', 'INVERTEBRADOS: UN MUNDO POR DESCUBRIR'], 'Silvia Fernanda Tavera ayala': ['INVERTEBRADOS: UN MUNDO POR DESCUBRIR', 'COLORES DE RESILIENCIA', 'COMUNICACIÓN DIGITAL', 'AMBIENTANDO LA CIENCIA', 'EL RASTRO DEL DELITO', 'PAP PARA LA VIDA', 'LA BRIGADA DE EMERGENCIA'], 'Angel Tomas Lozada Peña': ['AMBIENTANDO LA CIENCIA', 'COMUNICACIÓN DIGITAL', 'INVERTEBRADOS: UN MUNDO POR DESCUBRIR', 'COLORES DE RESILIENCIA', 'LA BRIGADA DE EMERGENCIA', 'EL RASTRO DEL DELITO', 'PAP PARA LA VIDA'], 'Sara Valentina Martínez calce tero ': ['EL RASTRO DEL DELITO', 'PAP PARA LA VIDA', 'COMUNICACIÓN DIGITAL', 'COLORES DE RESILIENCIA', 'AMBIENTANDO LA CIENCIA', 'INVERTEBRADOS: UN MUNDO POR DESCUBRIR', 'LA BRIGADA DE EMERGENCIA'], 'Ana María Sanabria culma ': ['EL RASTRO DEL DELITO', 'INVERTEBRADOS: UN MUNDO POR DESCUBRIR', 'PAP PARA LA VIDA', 'AMBIENTANDO LA CIENCIA', 'COMUNICACIÓN DIGITAL', 'LA BRIGADA DE EMERGENCIA', 'COLORES DE RESILIENCIA'], 'Evelyn Daian Garzón González ': ['EL RASTRO DEL DELITO', 'AMBIENTANDO LA CIENCIA', 'INVERTEBRADOS: UN MUNDO POR DESCUBRIR', 'LA BRIGADA DE EMERGENCIA', 'COMUNICACIÓN DIGITAL', 'COLORES DE RESILIENCIA', 'PAP PARA LA VIDA'], 'Emily Saray Riaño Sandoval ': ['EL RASTRO DEL DELITO', 'AMBIENTANDO LA CIENCIA', 'INVERTEBRADOS: UN MUNDO POR DESCUBRIR', 'COMUNICACIÓN DIGITAL', 'LA BRIGADA DE EMERGENCIA', 'COLORES DE RESILIENCIA', 'PAP PARA LA VIDA'], 'Jostin Daniel Prieto Cerón ': ['COMUNICACIÓN DIGITAL', 'COLORES DE RESILIENCIA', 'PAP PARA LA VIDA', 'INVERTEBRADOS: UN MUNDO POR DESCUBRIR', 'AMBIENTANDO LA CIENCIA', 'EL RASTRO DEL DELITO', 'LA BRIGADA DE EMERGENCIA'], 'Lesly Sofía Villalba Sánchez ': ['EL RASTRO DEL DELITO', 'PAP PARA LA VIDA', 'LA BRIGADA DE EMERGENCIA', 'INVERTEBRADOS: UN MUNDO POR DESCUBRIR', 'COLORES DE RESILIENCIA', 'COMUNICACIÓN DIGITAL', 'AMBIENTANDO LA CIENCIA'], 'María Camila Parra Gracia ': ['EL RASTRO DEL DELITO', 'PAP PARA LA VIDA', 'LA BRIGADA DE EMERGENCIA', 'AMBIENTANDO LA CIENCIA', 'INVERTEBRADOS: UN MUNDO POR DESCUBRIR', 'COMUNICACIÓN DIGITAL', 'COLORES DE RESILIENCIA'], 'Michelle Dayana Camargo Hurtado': ['EL RASTRO DEL DELITO', 'PAP PARA LA VIDA', 'COLORES DE RESILIENCIA', 'INVERTEBRADOS: UN MUNDO POR DESCUBRIR', 'LA BRIGADA DE EMERGENCIA', 'AMBIENTANDO LA CIENCIA', 'COMUNICACIÓN DIGITAL'], 'Nicolas gerardo pantoja nossa ': ['COMUNICACIÓN DIGITAL', 'COLORES DE RESILIENCIA', 'PAP PARA LA VIDA', 'INVERTEBRADOS: UN MUNDO POR DESCUBRIR', 'EL RASTRO DEL DELITO', 'AMBIENTANDO LA CIENCIA', 'LA BRIGADA DE EMERGENCIA'], 'Heidy Sarahí Ávila Salazar': ['EL RASTRO DEL DELITO', 'LA BRIGADA DE EMERGENCIA', 'INVERTEBRADOS: UN MUNDO POR DESCUBRIR', 'AMBIENTANDO LA CIENCIA', 'COLORES DE RESILIENCIA', 'PAP PARA LA VIDA', 'COMUNICACIÓN DIGITAL'], 'Michelle Samantha Hernández Moreno': ['COLORES DE RESILIENCIA', 'PAP PARA LA VIDA', 'AMBIENTANDO LA CIENCIA', 'INVERTEBRADOS: UN MUNDO POR DESCUBRIR', 'EL RASTRO DEL DELITO', 'LA BRIGADA DE EMERGENCIA', 'COMUNICACIÓN DIGITAL'], 'García Bernal Edison Fabian': ['EL RASTRO DEL DELITO', 'PAP PARA LA VIDA', 'LA BRIGADA DE EMERGENCIA', 'AMBIENTANDO LA CIENCIA', 'COLORES DE RESILIENCIA', 'INVERTEBRADOS: UN MUNDO POR DESCUBRIR', 'COMUNICACIÓN DIGITAL'], 'Mariana anzola valles ': ['AMBIENTANDO LA CIENCIA', 'COMUNICACIÓN DIGITAL', 'EL RASTRO DEL DELITO', 'INVERTEBRADOS: UN MUNDO POR DESCUBRIR', 'PAP PARA LA VIDA', 'COLORES DE RESILIENCIA', 'LA BRIGADA DE EMERGENCIA'], 'Manuel Santiago Pérez Chavarria ': ['INVERTEBRADOS: UN MUNDO POR DESCUBRIR', 'PAP PARA LA VIDA', 'EL RASTRO DEL DELITO', 'AMBIENTANDO LA CIENCIA', 'COMUNICACIÓN DIGITAL', 'COLORES DE RESILIENCIA', 'LA BRIGADA DE EMERGENCIA'], 'Michel Dayan Pérez Cano ': ['AMBIENTANDO LA CIENCIA', 'EL RASTRO DEL DELITO', 'COMUNICACIÓN DIGITAL', 'INVERTEBRADOS: UN MUNDO POR DESCUBRIR', 'PAP PARA LA VIDA', 'COLORES DE RESILIENCIA', 'LA BRIGADA DE EMERGENCIA'], 'Melany juliana Moreno cazares': ['EL RASTRO DEL DELITO', 'LA BRIGADA DE EMERGENCIA', 'COLORES DE RESILIENCIA', 'COMUNICACIÓN DIGITAL', 'AMBIENTANDO LA CIENCIA', 'PAP PARA LA VIDA', 'INVERTEBRADOS: UN MUNDO POR DESCUBRIR'], 'Carol Dayana morera velandia': ['EL RASTRO DEL DELITO', 'INVERTEBRADOS: UN MUNDO POR DESCUBRIR', 'COMUNICACIÓN DIGITAL', 'COLORES DE RESILIENCIA', 'AMBIENTANDO LA CIENCIA', 'PAP PARA LA VIDA', 'LA BRIGADA DE EMERGENCIA'], 'Dylan Andrey Martinez Ahumada ': ['EL RASTRO DEL DELITO', 'AMBIENTANDO LA CIENCIA', 'INVERTEBRADOS: UN MUNDO POR DESCUBRIR', 'COMUNICACIÓN DIGITAL', 'COLORES DE RESILIENCIA', 'PAP PARA LA VIDA', 'LA BRIGADA DE EMERGENCIA'], 'Faridt Stiven Ruiz Rodríguez ': ['LA BRIGADA DE EMERGENCIA', 'COMUNICACIÓN DIGITAL', 'INVERTEBRADOS: UN MUNDO POR DESCUBRIR', 'COLORES DE RESILIENCIA', 'AMBIENTANDO LA CIENCIA', 'EL RASTRO DEL DELITO', 'PAP PARA LA VIDA'], 'Saray Sophia Rodríguez Gracia': ['COLORES DE RESILIENCIA', 'COMUNICACIÓN DIGITAL', 'INVERTEBRADOS: UN MUNDO POR DESCUBRIR', 'EL RASTRO DEL DELITO', 'PAP PARA LA VIDA', 'AMBIENTANDO LA CIENCIA', 'LA BRIGADA DE EMERGENCIA'], 'Carlos Andrés Ávila Guerrero': ['INVERTEBRADOS: UN MUNDO POR DESCUBRIR', 'AMBIENTANDO LA CIENCIA', 'EL RASTRO DEL DELITO', 'COLORES DE RESILIENCIA', 'PAP PARA LA VIDA', 'COMUNICACIÓN DIGITAL', 'LA BRIGADA DE EMERGENCIA'], 'Paula Andrea Barragan Sanabria ': ['EL RASTRO DEL DELITO', 'PAP PARA LA VIDA', 'COLORES DE RESILIENCIA', 'INVERTEBRADOS: UN MUNDO POR DESCUBRIR', 'LA BRIGADA DE EMERGENCIA', 'AMBIENTANDO LA CIENCIA', 'COMUNICACIÓN DIGITAL'], 'Adrián David Cupaje ': ['EL RASTRO DEL DELITO', 'LA BRIGADA DE EMERGENCIA', 'PAP PARA LA VIDA', 'INVERTEBRADOS: UN MUNDO POR DESCUBRIR', 'AMBIENTANDO LA CIENCIA', 'COLORES DE RESILIENCIA', 'COMUNICACIÓN DIGITAL'], 'Luisa Alejandra Lozano Martínez ': ['COLORES DE RESILIENCIA', 'INVERTEBRADOS: UN MUNDO POR DESCUBRIR', 'EL RASTRO DEL DELITO', 'AMBIENTANDO LA CIENCIA', 'PAP PARA LA VIDA', 'COMUNICACIÓN DIGITAL', 'LA BRIGADA DE EMERGENCIA'], 'Anderson David Sierra Ramirez': ['COMUNICACIÓN DIGITAL', 'EL RASTRO DEL DELITO', 'LA BRIGADA DE EMERGENCIA', 'AMBIENTANDO LA CIENCIA', 'INVERTEBRADOS: UN MUNDO POR DESCUBRIR', 'PAP PARA LA VIDA', 'COLORES DE RESILIENCIA'], 'Mathias Arévalo Brito': ['EL RASTRO DEL DELITO', 'COMUNICACIÓN DIGITAL', 'AMBIENTANDO LA CIENCIA', 'LA BRIGADA DE EMERGENCIA', 'PAP PARA LA VIDA', 'INVERTEBRADOS: UN MUNDO POR DESCUBRIR', 'COLORES DE RESILIENCIA'], 'Cristopher Castiblanco Cruz': ['INVERTEBRADOS: UN MUNDO POR DESCUBRIR', 'AMBIENTANDO LA CIENCIA', 'EL RASTRO DEL DELITO', 'LA BRIGADA DE EMERGENCIA', 'COMUNICACIÓN DIGITAL', 'PAP PARA LA VIDA', 'COLORES DE RESILIENCIA'], 'Kevin Daniel Ibáñez Duran': ['COMUNICACIÓN DIGITAL', 'EL RASTRO DEL DELITO', 'INVERTEBRADOS: UN MUNDO POR DESCUBRIR', 'PAP PARA LA VIDA', 'LA BRIGADA DE EMERGENCIA', 'AMBIENTANDO LA CIENCIA', 'COLORES DE RESILIENCIA'], 'Sara Sofía Rodríguez González ': ['AMBIENTANDO LA CIENCIA', 'COLORES DE RESILIENCIA', 'COMUNICACIÓN DIGITAL', 'EL RASTRO DEL DELITO', 'LA BRIGADA DE EMERGENCIA', 'PAP PARA LA VIDA', 'INVERTEBRADOS: UN MUNDO POR DESCUBRIR'], 'Joel Andrey Amaya Motivar ': ['INVERTEBRADOS: UN MUNDO POR DESCUBRIR', 'EL RASTRO DEL DELITO', 'COLORES DE RESILIENCIA', 'COMUNICACIÓN DIGITAL', 'AMBIENTANDO LA CIENCIA', 'LA BRIGADA DE EMERGENCIA', 'PAP PARA LA VIDA'], 'Juan David Isaza Gutierrez': ['INVERTEBRADOS: UN MUNDO POR DESCUBRIR', 'EL RASTRO DEL DELITO', 'AMBIENTANDO LA CIENCIA', 'LA BRIGADA DE EMERGENCIA', 'COLORES DE RESILIENCIA', 'PAP PARA LA VIDA', 'COMUNICACIÓN DIGITAL'], 'Jeffer Andrés Pacheco Vargas': ['INVERTEBRADOS: UN MUNDO POR DESCUBRIR', 'LA BRIGADA DE EMERGENCIA', 'AMBIENTANDO LA CIENCIA', 'COLORES DE RESILIENCIA', 'PAP PARA LA VIDA', 'EL RASTRO DEL DELITO', 'COMUNICACIÓN DIGITAL']}\n"
     ]
    }
   ],
   "source": [
    "student_preferences = {}\n",
    "for index, row in df.iterrows():\n",
    "    nombre_completo = row['Nombre Completo']\n",
    "    seminar_preferences = [v for v in row[1:] if v]\n",
    "    student_preferences[nombre_completo] = seminar_preferences\n",
    "    \n",
    "print (student_preferences)"
   ]
  },
  {
   "cell_type": "markdown",
   "metadata": {},
   "source": [
    "### <span style=\"color:#898DD9\">Se definen las variables que nos determinan el total de estudiantes, el total de seminarios y cuantos estudiantes hay por seminario.    </span>"
   ]
  },
  {
   "cell_type": "code",
   "execution_count": 243,
   "metadata": {},
   "outputs": [
    {
     "name": "stdout",
     "output_type": "stream",
     "text": [
      "Total Seminarios: 7\n",
      "\n",
      "Numero de estudiantes: 97\n",
      "\n",
      "Numero de estudiantes por seminario: 14.0\n"
     ]
    }
   ],
   "source": [
    "total_seminars = seminars - 1\n",
    "print(f'Total Seminarios: {total_seminars}')\n",
    "\n",
    "total_students = len(df.index)\n",
    "print(f'\\nNumero de estudiantes: {total_students}')\n",
    "\n",
    "students_seminar =  np.ceil(total_students/total_seminars)\n",
    "print(f'\\nNumero de estudiantes por seminario: {students_seminar}')"
   ]
  },
  {
   "cell_type": "markdown",
   "metadata": {},
   "source": [
    "### <span style=\"color:#898DD9\">Se crea un diccionario para organizar los seminarios y la cantidad máxima de estudiantes por seminario </span>"
   ]
  },
  {
   "cell_type": "code",
   "execution_count": 244,
   "metadata": {},
   "outputs": [
    {
     "name": "stdout",
     "output_type": "stream",
     "text": [
      "{'INVERTEBRADOS: UN MUNDO POR DESCUBRIR': 14.0, 'EL RASTRO DEL DELITO': 14.0, 'COLORES DE RESILIENCIA': 14.0, 'COMUNICACIÓN DIGITAL': 14.0, 'AMBIENTANDO LA CIENCIA': 14.0, 'LA BRIGADA DE EMERGENCIA': 14.0, 'PAP PARA LA VIDA': 14.0}\n"
     ]
    }
   ],
   "source": [
    "seminar_capacities = {}\n",
    "for student, preferences in student_preferences.items():\n",
    "    for seminar in preferences:\n",
    "        if seminar not in seminar_capacities:\n",
    "            seminar_capacities[seminar] = students_seminar\n",
    "            \n",
    "print (seminar_capacities)"
   ]
  },
  {
   "cell_type": "markdown",
   "metadata": {},
   "source": [
    "### <span style=\"color:#898DD9\">Se asigna el seminario a cada estudiante en base al orden de inscripción y los cupos disponibles </span>"
   ]
  },
  {
   "cell_type": "code",
   "execution_count": 245,
   "metadata": {},
   "outputs": [
    {
     "name": "stdout",
     "output_type": "stream",
     "text": [
      "{'Linconl Javier Sánchez fajardo ': 'INVERTEBRADOS: UN MUNDO POR DESCUBRIR', 'D?v?ra Esneider Mendivelso Caceres': 'INVERTEBRADOS: UN MUNDO POR DESCUBRIR', 'Nixon Sánchez ': 'EL RASTRO DEL DELITO', 'Juan Sebastian Velasco Carmona ': 'EL RASTRO DEL DELITO', 'Jireth Sofia Galvis Rugeles': 'EL RASTRO DEL DELITO', 'Abigail Maria Caldera Gonzalez': 'EL RASTRO DEL DELITO', 'Daniel Sebastián Muñoz Vargas ': 'INVERTEBRADOS: UN MUNDO POR DESCUBRIR', 'María Catalina Ducuara Vela': 'EL RASTRO DEL DELITO', 'Juan Andrés Rojas Contreras ': 'EL RASTRO DEL DELITO', 'Daniel Alejandro Timoteo torres ': 'EL RASTRO DEL DELITO', 'Edward Santiago Torres Ariza ': 'EL RASTRO DEL DELITO', 'Zara Jireht Grisales Pérez ': 'EL RASTRO DEL DELITO', 'María Fernanda Vega Lugo ': 'EL RASTRO DEL DELITO', 'David santiago tapiero figueroa ': 'INVERTEBRADOS: UN MUNDO POR DESCUBRIR', 'Alisson Reyes Ibarra': 'EL RASTRO DEL DELITO', 'Michel Contreras Rendón': 'EL RASTRO DEL DELITO', 'Ana María Rodríguez Tafur ': 'INVERTEBRADOS: UN MUNDO POR DESCUBRIR', 'Maria Alejandra Durán Gámez ': 'EL RASTRO DEL DELITO', 'Daniel Felipe Vega Muñoz ': 'INVERTEBRADOS: UN MUNDO POR DESCUBRIR', 'Carol Gabriela Díaz gamboa': 'EL RASTRO DEL DELITO', 'Nikol Sofía Gil Jiménez ': 'LA BRIGADA DE EMERGENCIA', 'Ángel Daniel Ramírez Vento ': 'INVERTEBRADOS: UN MUNDO POR DESCUBRIR', 'Sebastián Roldán Montero': 'INVERTEBRADOS: UN MUNDO POR DESCUBRIR', 'Angel Leandro Marta Linares': 'LA BRIGADA DE EMERGENCIA', 'Juan Camilo castro Mateus ': 'LA BRIGADA DE EMERGENCIA', 'Ashley Natalia Villalba Sánchez ': 'PAP PARA LA VIDA', 'Lizy Valeria Londoño Tapiero': 'INVERTEBRADOS: UN MUNDO POR DESCUBRIR', 'miguel angel Talero Arévalo ': 'AMBIENTANDO LA CIENCIA', 'Juan Sebastián Escobar Cantin': 'AMBIENTANDO LA CIENCIA', 'Nicolás Santiago Villarreal Orjuela ': 'LA BRIGADA DE EMERGENCIA', 'Cristian Alexander Rico Alvernia': 'COLORES DE RESILIENCIA', 'Esteban Alejandro alba Linarez': 'LA BRIGADA DE EMERGENCIA', 'Herman Stiven Medina Chicaiza ': 'INVERTEBRADOS: UN MUNDO POR DESCUBRIR', 'Sebastian David Ruiz Rodríguez ': 'LA BRIGADA DE EMERGENCIA', 'Eileen Katherine Pinilla Torres': 'COMUNICACIÓN DIGITAL', 'María Camila Villamil Martinez ': 'PAP PARA LA VIDA', 'Sara Valentina Antonio umbarila': 'PAP PARA LA VIDA', 'Maikol Sebastián castro Velasquez ': 'LA BRIGADA DE EMERGENCIA', 'Sara Camila Mendoza muñoz ': 'PAP PARA LA VIDA', 'Heidy Nataly Aldana Esteban ': 'AMBIENTANDO LA CIENCIA', 'Miguel angel fajardo loaiza': 'COMUNICACIÓN DIGITAL', 'Nicolás Marentes Garcia': 'INVERTEBRADOS: UN MUNDO POR DESCUBRIR', 'Valery Stefania Valbuena Gutiérrez ': 'COMUNICACIÓN DIGITAL', 'Anthony Javier Rodríguez Sierra': 'INVERTEBRADOS: UN MUNDO POR DESCUBRIR', 'Juan Fernando Romero Barahona ': 'LA BRIGADA DE EMERGENCIA', 'Karen Julieth Mendoza Franco ': 'PAP PARA LA VIDA', 'Emily juliana Ibanez Montoya ': 'PAP PARA LA VIDA', 'Estefanía Veloza Veloza': 'AMBIENTANDO LA CIENCIA', 'Laura Camila Perez Rodriguez ': 'PAP PARA LA VIDA', 'Kevin Alexander Villamil Trillos ': 'INVERTEBRADOS: UN MUNDO POR DESCUBRIR', 'Elkin Mateo Rozo Rodríguez ': 'INVERTEBRADOS: UN MUNDO POR DESCUBRIR', 'Juanita Camila Riascos Mancipe': 'AMBIENTANDO LA CIENCIA', 'Edna Saray Quiroga Vaquiro': 'PAP PARA LA VIDA', 'Joel Sebastián puentes murcia ': 'AMBIENTANDO LA CIENCIA', 'Juana Isabella Rodríguez Robayo': 'COMUNICACIÓN DIGITAL', 'Emely Sofía Franco Ramirez ': 'COLORES DE RESILIENCIA', 'Dayanna Alejandra Carrión Valencia ': 'PAP PARA LA VIDA', 'Santiago Salamanca Rojas ': 'PAP PARA LA VIDA', 'Karen Sofía Rodríguez Riaño ': 'COMUNICACIÓN DIGITAL', 'Sofia Valentina Pulido García ': 'COMUNICACIÓN DIGITAL', 'Alexander Toro Santos.': 'LA BRIGADA DE EMERGENCIA', 'Nicol Paola Mateus Peña': 'COLORES DE RESILIENCIA', 'Silvia Fernanda Tavera ayala': 'COLORES DE RESILIENCIA', 'Angel Tomas Lozada Peña': 'AMBIENTANDO LA CIENCIA', 'Sara Valentina Martínez calce tero ': 'PAP PARA LA VIDA', 'Ana María Sanabria culma ': 'PAP PARA LA VIDA', 'Evelyn Daian Garzón González ': 'AMBIENTANDO LA CIENCIA', 'Emily Saray Riaño Sandoval ': 'AMBIENTANDO LA CIENCIA', 'Jostin Daniel Prieto Cerón ': 'COMUNICACIÓN DIGITAL', 'Lesly Sofía Villalba Sánchez ': 'PAP PARA LA VIDA', 'María Camila Parra Gracia ': 'PAP PARA LA VIDA', 'Michelle Dayana Camargo Hurtado': 'COLORES DE RESILIENCIA', 'Nicolas gerardo pantoja nossa ': 'COMUNICACIÓN DIGITAL', 'Heidy Sarahí Ávila Salazar': 'LA BRIGADA DE EMERGENCIA', 'Michelle Samantha Hernández Moreno': 'COLORES DE RESILIENCIA', 'García Bernal Edison Fabian': 'LA BRIGADA DE EMERGENCIA', 'Mariana anzola valles ': 'AMBIENTANDO LA CIENCIA', 'Manuel Santiago Pérez Chavarria ': 'AMBIENTANDO LA CIENCIA', 'Michel Dayan Pérez Cano ': 'AMBIENTANDO LA CIENCIA', 'Melany juliana Moreno cazares': 'LA BRIGADA DE EMERGENCIA', 'Carol Dayana morera velandia': 'COMUNICACIÓN DIGITAL', 'Dylan Andrey Martinez Ahumada ': 'AMBIENTANDO LA CIENCIA', 'Faridt Stiven Ruiz Rodríguez ': 'LA BRIGADA DE EMERGENCIA', 'Saray Sophia Rodríguez Gracia': 'COLORES DE RESILIENCIA', 'Carlos Andrés Ávila Guerrero': 'AMBIENTANDO LA CIENCIA', 'Paula Andrea Barragan Sanabria ': 'COLORES DE RESILIENCIA', 'Adrián David Cupaje ': 'LA BRIGADA DE EMERGENCIA', 'Luisa Alejandra Lozano Martínez ': 'COLORES DE RESILIENCIA', 'Anderson David Sierra Ramirez': 'COMUNICACIÓN DIGITAL', 'Mathias Arévalo Brito': 'COMUNICACIÓN DIGITAL', 'Cristopher Castiblanco Cruz': 'COMUNICACIÓN DIGITAL', 'Kevin Daniel Ibáñez Duran': 'COMUNICACIÓN DIGITAL', 'Sara Sofía Rodríguez González ': 'COLORES DE RESILIENCIA', 'Joel Andrey Amaya Motivar ': 'COLORES DE RESILIENCIA', 'Juan David Isaza Gutierrez': 'COLORES DE RESILIENCIA', 'Jeffer Andrés Pacheco Vargas': 'COLORES DE RESILIENCIA'}\n"
     ]
    }
   ],
   "source": [
    "def assign_seminars(student_preferences, seminar_capacities):\n",
    "    assigned_seminars = {}\n",
    "    for student, preferences in student_preferences.items():\n",
    "        for seminar in preferences:\n",
    "            if seminar_capacities[seminar] > 0:\n",
    "                assigned_seminars[student] = seminar\n",
    "                seminar_capacities[seminar] -= 1\n",
    "                break\n",
    "    return assigned_seminars\n",
    "\n",
    "assigned_seminars = assign_seminars(student_preferences, seminar_capacities)\n",
    "print(assigned_seminars)"
   ]
  },
  {
   "cell_type": "markdown",
   "metadata": {},
   "source": [
    "### <span style=\"color:#898DD9\">El diccionario se convierte a un dataframe para ordenarlo antes de exportarlo a un archico de excel </span>"
   ]
  },
  {
   "cell_type": "code",
   "execution_count": null,
   "metadata": {},
   "outputs": [],
   "source": [
    "final_df = pd.DataFrame(list(assigned_seminars.items()), columns=['Nombre', 'Seminario'])\n",
    "\n",
    "final_df.head()"
   ]
  },
  {
   "cell_type": "markdown",
   "metadata": {},
   "source": [
    "### <span style=\"color:#898DD9\">Se exporta el dataframe en un archivo de Excel, creando una hoja por seminario y se ordenan los estudiantes por seminario </span>\n"
   ]
  },
  {
   "cell_type": "code",
   "execution_count": 225,
   "metadata": {},
   "outputs": [],
   "source": [
    "workbook = xlsxwriter.Workbook('asignacion_seminarios.xlsx')\n",
    "seminarios = final_df['Seminario'].unique()\n",
    "\n",
    "for seminario in seminarios:\n",
    "    sheet_name = re.sub(r'[:?/\\\\*\\[\\]\\'\"]', '_', seminario)[:31]\n",
    "    worksheet = workbook.add_worksheet(sheet_name)\n",
    "    worksheet.set_default_row(15)\n",
    "    seminario_df = final_df[final_df['Seminario'] == seminario].dropna(how='all')\n",
    "    worksheet.write_row(0, 0, seminario_df.columns.tolist())\n",
    "    for index, row in seminario_df.iterrows():\n",
    "        worksheet.write_row(index + 1, 0, row.tolist())\n",
    "\n",
    "workbook.close()"
   ]
  },
  {
   "cell_type": "markdown",
   "metadata": {},
   "source": [
    "### <span style=\"color:#898DD9\">Se ordena el archivo eliminando espacios vacios y se organiza el archivo </span>"
   ]
  },
  {
   "cell_type": "code",
   "execution_count": 226,
   "metadata": {},
   "outputs": [],
   "source": [
    "\n",
    "wb = openpyxl.load_workbook('asignacion_seminarios.xlsx')\n",
    "for sheet_name in wb.sheetnames:\n",
    "    ws = wb[sheet_name]\n",
    "    for row in range(ws.max_row, 0, -1):\n",
    "        if all(cell.value is None for cell in ws[row]):\n",
    "            ws.delete_rows(row)\n",
    "\n",
    "\n",
    "wb.save('asignacion_seminarios.xlsx')"
   ]
  }
 ],
 "metadata": {
  "kernelspec": {
   "display_name": "Python 3",
   "language": "python",
   "name": "python3"
  },
  "language_info": {
   "codemirror_mode": {
    "name": "ipython",
    "version": 3
   },
   "file_extension": ".py",
   "mimetype": "text/x-python",
   "name": "python",
   "nbconvert_exporter": "python",
   "pygments_lexer": "ipython3",
   "version": "3.12.4"
  }
 },
 "nbformat": 4,
 "nbformat_minor": 2
}
